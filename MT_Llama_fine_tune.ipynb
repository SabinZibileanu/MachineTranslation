{
  "metadata": {
    "kernelspec": {
      "language": "python",
      "display_name": "Python 3",
      "name": "python3"
    },
    "language_info": {
      "name": "python",
      "version": "3.10.12",
      "mimetype": "text/x-python",
      "codemirror_mode": {
        "name": "ipython",
        "version": 3
      },
      "pygments_lexer": "ipython3",
      "nbconvert_exporter": "python",
      "file_extension": ".py"
    },
    "kaggle": {
      "accelerator": "nvidiaTeslaT4",
      "dataSources": [
        {
          "sourceId": 10654559,
          "sourceType": "datasetVersion",
          "datasetId": 6597824
        }
      ],
      "dockerImageVersionId": 30840,
      "isInternetEnabled": true,
      "language": "python",
      "sourceType": "notebook",
      "isGpuEnabled": true
    },
    "colab": {
      "name": "unsloth",
      "provenance": []
    }
  },
  "nbformat_minor": 0,
  "nbformat": 4,
  "cells": [
    {
      "cell_type": "code",
      "source": [
        "pip install sacrebleu"
      ],
      "metadata": {
        "trusted": true,
        "id": "FdWbNWqrADsW"
      },
      "outputs": [],
      "execution_count": null
    },
    {
      "cell_type": "code",
      "source": [
        "pip install unsloth"
      ],
      "metadata": {
        "trusted": true,
        "id": "EBraAJqJADsX"
      },
      "outputs": [],
      "execution_count": null
    },
    {
      "cell_type": "code",
      "source": [
        "pip install -U wandb -q"
      ],
      "metadata": {
        "trusted": true,
        "id": "P5OIUk2mADsX"
      },
      "outputs": [],
      "execution_count": null
    },
    {
      "cell_type": "code",
      "source": [
        "from datasets import Dataset, concatenate_datasets\n",
        "from sacrebleu import corpus_bleu\n",
        "from transformers import pipeline\n",
        "from unsloth import FastLanguageModel\n",
        "import torch"
      ],
      "metadata": {
        "trusted": true,
        "execution": {
          "iopub.status.busy": "2025-02-04T17:10:51.439334Z",
          "iopub.execute_input": "2025-02-04T17:10:51.439726Z",
          "iopub.status.idle": "2025-02-04T17:11:17.878345Z",
          "shell.execute_reply.started": "2025-02-04T17:10:51.439694Z",
          "shell.execute_reply": "2025-02-04T17:11:17.877607Z"
        },
        "id": "Udkg0ccJADsX",
        "outputId": "9b0c959e-c7c2-4ca8-def3-3bbbcbd6f170"
      },
      "outputs": [
        {
          "name": "stdout",
          "text": "🦥 Unsloth: Will patch your computer to enable 2x faster free finetuning.\n🦥 Unsloth Zoo will now patch everything to make training faster!\n",
          "output_type": "stream"
        }
      ],
      "execution_count": null
    },
    {
      "cell_type": "code",
      "source": [
        "\n",
        "def load_parallel_data(romanian_path, romani_path):\n",
        "    with open(romanian_path, 'r', encoding='utf-8') as ro_file, \\\n",
        "         open(romani_path, 'r', encoding='utf-8') as roma_file:\n",
        "        romanian_lines = ro_file.readlines()\n",
        "        romani_lines = roma_file.readlines()\n",
        "\n",
        "    assert len(romanian_lines) == len(romani_lines), \"Mismatched number of lines!\"\n",
        "\n",
        "    data = {\"translation\": [{\"ro\": ro.strip(), \"roma\": roma.strip()}\n",
        "                              for ro, roma in zip(romanian_lines, romani_lines)]}\n",
        "    return Dataset.from_dict(data)"
      ],
      "metadata": {
        "trusted": true,
        "execution": {
          "iopub.status.busy": "2025-02-04T17:11:17.879456Z",
          "iopub.execute_input": "2025-02-04T17:11:17.879773Z",
          "iopub.status.idle": "2025-02-04T17:11:17.884418Z",
          "shell.execute_reply.started": "2025-02-04T17:11:17.879742Z",
          "shell.execute_reply": "2025-02-04T17:11:17.883465Z"
        },
        "id": "nCbQiGTwADsY"
      },
      "outputs": [],
      "execution_count": null
    },
    {
      "cell_type": "code",
      "source": [
        "huggingface_dataset = load_parallel_data('/kaggle/input/romani-romanian/romanian.txt', '/kaggle/input/romani-romanian/romani.txt')\n",
        "huggingface_dataset_shuffled = huggingface_dataset.shuffle(seed = 42)\n",
        "train_test_split = huggingface_dataset_shuffled.train_test_split(test_size=0.2)\n",
        "train_dataset = train_test_split[\"train\"]\n",
        "test_eval_split = train_test_split[\"test\"].train_test_split(test_size = 0.5)"
      ],
      "metadata": {
        "trusted": true,
        "execution": {
          "iopub.status.busy": "2025-02-04T17:11:17.886236Z",
          "iopub.execute_input": "2025-02-04T17:11:17.886467Z",
          "iopub.status.idle": "2025-02-04T17:11:18.079794Z",
          "shell.execute_reply.started": "2025-02-04T17:11:17.886448Z",
          "shell.execute_reply": "2025-02-04T17:11:18.0789Z"
        },
        "id": "ztB7Df2JADsY"
      },
      "outputs": [],
      "execution_count": null
    },
    {
      "cell_type": "code",
      "source": [
        "print(huggingface_dataset[0])\n",
        "print(huggingface_dataset_shuffled[0])\n",
        "print(len(huggingface_dataset))\n",
        "print(\"=\"*50)\n",
        "print(\"Length of train set: \",len(train_dataset))\n",
        "print(\"Length of test set: \", len(test_eval_split))\n",
        "print(train_dataset)\n",
        "print(test_eval_split)\n",
        "print(test_eval_split[\"train\"][0])\n",
        "print(test_eval_split[\"test\"][0])"
      ],
      "metadata": {
        "trusted": true,
        "execution": {
          "iopub.status.busy": "2025-02-04T17:11:18.0809Z",
          "iopub.execute_input": "2025-02-04T17:11:18.08122Z",
          "iopub.status.idle": "2025-02-04T17:11:18.089849Z",
          "shell.execute_reply.started": "2025-02-04T17:11:18.081187Z",
          "shell.execute_reply": "2025-02-04T17:11:18.089186Z"
        },
        "id": "9QzpdlxkADsZ",
        "outputId": "caf04d39-4178-4627-e1b5-55f6c185663d"
      },
      "outputs": [
        {
          "name": "stdout",
          "text": "{'translation': {'ro': 'Ne-ai onorat să purtăm al tău nume:', 'roma': 'Hin bari visada prekal amende,'}}\n{'translation': {'ro': 'Şi iată că o femeie păcătoasă din cetate a aflat că El era la masă în casa Fariseului: a adus un vas de alabastru cu mir mirositor,', 'roma': 'Sas iek zhuvli bezexali kai sas ando gav, kana ashundia ke O Jesus sas pa e skafidi ando kher le Farizeanongo, andini iek botela pherdo duxi.'}}\n10725\n==================================================\nLength of train set:  8580\nLength of test set:  2\nDataset({\n    features: ['translation'],\n    num_rows: 8580\n})\nDatasetDict({\n    train: Dataset({\n        features: ['translation'],\n        num_rows: 1072\n    })\n    test: Dataset({\n        features: ['translation'],\n        num_rows: 1073\n    })\n})\n{'translation': {'ro': 'Dar înainte de toate acestea, vor pune mînile pe voi, şi vă vor prigoni: vă vor da pe mîna sinagogelor, vă vor arunca în temniţe, vă vor tîrî înaintea împăraţilor şi înaintea dregătorilor, din pricina Numelui Meu.', 'roma': 'Numa mai anglal sar kodola dieli, lena tume le manush ai chinuina tume, dena tume kal synagoguria, thona tume andel temnitsi, angerena tume anglal la amperatsi ai le bare le foroske pala murho anav.'}}\n{'translation': {'ro': 'Daţi mai bine milostenie din lucrurile dinlăuntru, şi atunci toate vă vor fi curate.', 'roma': 'Numa den so si ande che kuchi ai tiari kal chorhe, ai swako diela avela vuzhi tumenge.'}}\n",
          "output_type": "stream"
        }
      ],
      "execution_count": null
    },
    {
      "cell_type": "code",
      "source": [
        "\n",
        "max_seq_length = 4096\n",
        "dtype = None\n",
        "load_in_4bit = True\n",
        "\n",
        "model, tokenizer = FastLanguageModel.from_pretrained(\n",
        "    model_name=\"unsloth/Llama-3.2-3B-Instruct-bnb-4bit\",\n",
        "    max_seq_length=max_seq_length,\n",
        "    dtype=dtype,\n",
        "    load_in_4bit=load_in_4bit,\n",
        ")\n",
        "\n",
        "FastLanguageModel.for_inference(model)"
      ],
      "metadata": {
        "trusted": true,
        "execution": {
          "iopub.status.busy": "2025-02-04T17:11:18.090873Z",
          "iopub.execute_input": "2025-02-04T17:11:18.091196Z",
          "iopub.status.idle": "2025-02-04T17:12:23.160448Z",
          "shell.execute_reply.started": "2025-02-04T17:11:18.091164Z",
          "shell.execute_reply": "2025-02-04T17:12:23.159617Z"
        },
        "colab": {
          "referenced_widgets": [
            "84472303df4240779adac0dc1d92b174",
            "83a328c3154344ceba71c2c64cbeb452",
            "2bcde0751ae34066a2eb2c2226cf49cb",
            "9686422c8dd1426a8c0f74dfa275bc8c",
            "fc76c281addb46d59f1858b2666e588a"
          ]
        },
        "id": "cEMOQ7vYADsZ",
        "outputId": "020a2abe-52fa-4fb0-ea44-fa412d96f116"
      },
      "outputs": [
        {
          "name": "stdout",
          "text": "==((====))==  Unsloth 2025.1.8: Fast Llama patching. Transformers: 4.48.2.\n   \\\\   /|    GPU: Tesla T4. Max memory: 14.741 GB. Platform: Linux.\nO^O/ \\_/ \\    Torch: 2.5.1+cu121. CUDA: 7.5. CUDA Toolkit: 12.1. Triton: 3.1.0\n\\        /    Bfloat16 = FALSE. FA [Xformers = 0.0.29.post1. FA2 = False]\n \"-____-\"     Free Apache license: http://github.com/unslothai/unsloth\nUnsloth: Fast downloading is enabled - ignore downloading bars which are red colored!\n",
          "output_type": "stream"
        },
        {
          "output_type": "display_data",
          "data": {
            "text/plain": "model.safetensors:   0%|          | 0.00/2.35G [00:00<?, ?B/s]",
            "application/vnd.jupyter.widget-view+json": {
              "version_major": 2,
              "version_minor": 0,
              "model_id": "84472303df4240779adac0dc1d92b174"
            }
          },
          "metadata": {}
        },
        {
          "output_type": "display_data",
          "data": {
            "text/plain": "generation_config.json:   0%|          | 0.00/234 [00:00<?, ?B/s]",
            "application/vnd.jupyter.widget-view+json": {
              "version_major": 2,
              "version_minor": 0,
              "model_id": "83a328c3154344ceba71c2c64cbeb452"
            }
          },
          "metadata": {}
        },
        {
          "output_type": "display_data",
          "data": {
            "text/plain": "tokenizer_config.json:   0%|          | 0.00/54.7k [00:00<?, ?B/s]",
            "application/vnd.jupyter.widget-view+json": {
              "version_major": 2,
              "version_minor": 0,
              "model_id": "2bcde0751ae34066a2eb2c2226cf49cb"
            }
          },
          "metadata": {}
        },
        {
          "output_type": "display_data",
          "data": {
            "text/plain": "tokenizer.json:   0%|          | 0.00/17.2M [00:00<?, ?B/s]",
            "application/vnd.jupyter.widget-view+json": {
              "version_major": 2,
              "version_minor": 0,
              "model_id": "9686422c8dd1426a8c0f74dfa275bc8c"
            }
          },
          "metadata": {}
        },
        {
          "output_type": "display_data",
          "data": {
            "text/plain": "special_tokens_map.json:   0%|          | 0.00/454 [00:00<?, ?B/s]",
            "application/vnd.jupyter.widget-view+json": {
              "version_major": 2,
              "version_minor": 0,
              "model_id": "fc76c281addb46d59f1858b2666e588a"
            }
          },
          "metadata": {}
        },
        {
          "execution_count": 5,
          "output_type": "execute_result",
          "data": {
            "text/plain": "LlamaForCausalLM(\n  (model): LlamaModel(\n    (embed_tokens): Embedding(128256, 3072, padding_idx=128004)\n    (layers): ModuleList(\n      (0): LlamaDecoderLayer(\n        (self_attn): LlamaAttention(\n          (q_proj): Linear4bit(in_features=3072, out_features=3072, bias=False)\n          (k_proj): Linear4bit(in_features=3072, out_features=1024, bias=False)\n          (v_proj): Linear4bit(in_features=3072, out_features=1024, bias=False)\n          (o_proj): Linear4bit(in_features=3072, out_features=3072, bias=False)\n          (rotary_emb): LlamaRotaryEmbedding()\n        )\n        (mlp): LlamaMLP(\n          (gate_proj): Linear4bit(in_features=3072, out_features=8192, bias=False)\n          (up_proj): Linear4bit(in_features=3072, out_features=8192, bias=False)\n          (down_proj): Linear4bit(in_features=8192, out_features=3072, bias=False)\n          (act_fn): SiLU()\n        )\n        (input_layernorm): LlamaRMSNorm((3072,), eps=1e-05)\n        (post_attention_layernorm): LlamaRMSNorm((3072,), eps=1e-05)\n      )\n      (1): LlamaDecoderLayer(\n        (self_attn): LlamaAttention(\n          (q_proj): Linear4bit(in_features=3072, out_features=3072, bias=False)\n          (k_proj): Linear4bit(in_features=3072, out_features=1024, bias=False)\n          (v_proj): Linear4bit(in_features=3072, out_features=1024, bias=False)\n          (o_proj): Linear4bit(in_features=3072, out_features=3072, bias=False)\n          (rotary_emb): LlamaRotaryEmbedding()\n        )\n        (mlp): LlamaMLP(\n          (gate_proj): Linear(in_features=3072, out_features=8192, bias=False)\n          (up_proj): Linear(in_features=3072, out_features=8192, bias=False)\n          (down_proj): Linear(in_features=8192, out_features=3072, bias=False)\n          (act_fn): SiLU()\n        )\n        (input_layernorm): LlamaRMSNorm((3072,), eps=1e-05)\n        (post_attention_layernorm): LlamaRMSNorm((3072,), eps=1e-05)\n      )\n      (2-27): 26 x LlamaDecoderLayer(\n        (self_attn): LlamaAttention(\n          (q_proj): Linear4bit(in_features=3072, out_features=3072, bias=False)\n          (k_proj): Linear4bit(in_features=3072, out_features=1024, bias=False)\n          (v_proj): Linear4bit(in_features=3072, out_features=1024, bias=False)\n          (o_proj): Linear4bit(in_features=3072, out_features=3072, bias=False)\n          (rotary_emb): LlamaRotaryEmbedding()\n        )\n        (mlp): LlamaMLP(\n          (gate_proj): Linear4bit(in_features=3072, out_features=8192, bias=False)\n          (up_proj): Linear4bit(in_features=3072, out_features=8192, bias=False)\n          (down_proj): Linear4bit(in_features=8192, out_features=3072, bias=False)\n          (act_fn): SiLU()\n        )\n        (input_layernorm): LlamaRMSNorm((3072,), eps=1e-05)\n        (post_attention_layernorm): LlamaRMSNorm((3072,), eps=1e-05)\n      )\n    )\n    (norm): LlamaRMSNorm((3072,), eps=1e-05)\n    (rotary_emb): LlamaRotaryEmbedding()\n  )\n  (lm_head): Linear(in_features=3072, out_features=128256, bias=False)\n)"
          },
          "metadata": {}
        }
      ],
      "execution_count": null
    },
    {
      "cell_type": "code",
      "source": [
        "# # Function to translate Romanian sentences\n",
        "\n",
        "# def translate(text):\n",
        "#     prompt = f\"Tradu urmatorul text din limba Română în limba Romani (vorbită de Romii din România):\\nRomână: {text}\\nRomani:\"\n",
        "#     inputs = tokenizer(prompt, return_tensors=\"pt\", truncation=True, padding=True).to(\"cuda\")\n",
        "#     outputs = model.generate(**inputs, max_new_tokens=100, use_cache=True)\n",
        "\n",
        "#     decoded = tokenizer.batch_decode(outputs, skip_special_tokens=True)[0]\n",
        "#     return decoded.split(\"\\nRomani:\")[1]"
      ],
      "metadata": {
        "trusted": true,
        "execution": {
          "iopub.status.busy": "2025-02-04T17:12:23.161359Z",
          "iopub.execute_input": "2025-02-04T17:12:23.161635Z",
          "iopub.status.idle": "2025-02-04T17:12:23.164782Z",
          "shell.execute_reply.started": "2025-02-04T17:12:23.161602Z",
          "shell.execute_reply": "2025-02-04T17:12:23.163941Z"
        },
        "id": "xopoGzUEADsZ"
      },
      "outputs": [],
      "execution_count": null
    },
    {
      "cell_type": "code",
      "source": [
        "# from tqdm import tqdm  # Import tqdm for progress tracking\n",
        "\n",
        "# test_dataset = test_eval_split[\"test\"]  # Get the test dataset\n",
        "\n",
        "# romanian_sentences = [example[\"translation\"][\"ro\"] for example in test_dataset]\n",
        "# romani_ground_truth = [[example[\"translation\"][\"roma\"]] for example in test_dataset]  # List of lists\n",
        "\n",
        "# # Generate translations with progress tracking\n",
        "# translated_sentences = []\n",
        "# for sentence in tqdm(romanian_sentences[:20], desc=\"Translating\", unit=\"sentence\"):\n",
        "#     translated_sentences.append(translate(sentence))\n",
        "\n",
        "# # Compute BLEU score with progress tracking\n",
        "# bleu_score = corpus_bleu(translated_sentences, romani_ground_truth).score\n",
        "\n",
        "# print(\"=\" * 50)\n",
        "# print(f\"BLEU Score: {bleu_score}\")\n",
        "# print(\"=\" * 50)"
      ],
      "metadata": {
        "trusted": true,
        "execution": {
          "iopub.status.busy": "2025-02-04T17:12:23.165489Z",
          "iopub.execute_input": "2025-02-04T17:12:23.165693Z",
          "iopub.status.idle": "2025-02-04T17:12:23.179749Z",
          "shell.execute_reply.started": "2025-02-04T17:12:23.165674Z",
          "shell.execute_reply": "2025-02-04T17:12:23.179043Z"
        },
        "id": "S36jhWK5ADsa"
      },
      "outputs": [],
      "execution_count": null
    },
    {
      "cell_type": "code",
      "source": [
        "# print(translated_sentences)"
      ],
      "metadata": {
        "trusted": true,
        "execution": {
          "iopub.status.busy": "2025-02-04T17:12:23.181847Z",
          "iopub.execute_input": "2025-02-04T17:12:23.182043Z",
          "iopub.status.idle": "2025-02-04T17:12:23.194145Z",
          "shell.execute_reply.started": "2025-02-04T17:12:23.182026Z",
          "shell.execute_reply": "2025-02-04T17:12:23.19352Z"
        },
        "id": "viwYZcKOADsa"
      },
      "outputs": [],
      "execution_count": null
    },
    {
      "cell_type": "code",
      "source": [
        "# import gc\n",
        "# for _ in range(5):\n",
        "#     gc.collect()\n",
        "#     torch.cuda.empty_cache()"
      ],
      "metadata": {
        "trusted": true,
        "execution": {
          "iopub.status.busy": "2025-02-04T17:12:23.195224Z",
          "iopub.execute_input": "2025-02-04T17:12:23.195494Z",
          "iopub.status.idle": "2025-02-04T17:12:23.205603Z",
          "shell.execute_reply.started": "2025-02-04T17:12:23.195474Z",
          "shell.execute_reply": "2025-02-04T17:12:23.20491Z"
        },
        "id": "qG2YtVXtADsa"
      },
      "outputs": [],
      "execution_count": null
    },
    {
      "cell_type": "code",
      "source": [
        "model = FastLanguageModel.get_peft_model(\n",
        "    model,\n",
        "    r = 32,\n",
        "    target_modules = [\"q_proj\", \"k_proj\", \"v_proj\", \"o_proj\",\n",
        "                      \"gate_proj\", \"up_proj\", \"down_proj\",\n",
        "                      \"embed_tokens\",\n",
        "                      \"lm_head\",],\n",
        "    lora_alpha = 32,\n",
        "    lora_dropout = 0,\n",
        "    bias = \"none\",\n",
        "    use_gradient_checkpointing = \"unsloth\",\n",
        "    random_state = 3407,\n",
        "    use_rslora = True,\n",
        "    loftq_config = None,\n",
        ")"
      ],
      "metadata": {
        "trusted": true,
        "execution": {
          "iopub.status.busy": "2025-02-04T17:12:23.206365Z",
          "iopub.execute_input": "2025-02-04T17:12:23.206642Z",
          "iopub.status.idle": "2025-02-04T17:12:33.941033Z",
          "shell.execute_reply.started": "2025-02-04T17:12:23.206608Z",
          "shell.execute_reply": "2025-02-04T17:12:33.940097Z"
        },
        "id": "woQXrrbzADsa",
        "outputId": "2cbad743-6588-4b52-db1c-c9a29e65107f"
      },
      "outputs": [
        {
          "name": "stdout",
          "text": "Unsloth: Offloading input_embeddings to disk to save VRAM\n",
          "output_type": "stream"
        },
        {
          "name": "stderr",
          "text": "/usr/local/lib/python3.10/dist-packages/unsloth/models/_utils.py:752: FutureWarning: You are using `torch.load` with `weights_only=False` (the current default value), which uses the default pickle module implicitly. It is possible to construct malicious pickle data which will execute arbitrary code during unpickling (See https://github.com/pytorch/pytorch/blob/main/SECURITY.md#untrusted-models for more details). In a future release, the default value for `weights_only` will be flipped to `True`. This limits the functions that could be executed during unpickling. Arbitrary objects will no longer be allowed to be loaded via this mode unless they are explicitly allowlisted by the user via `torch.serialization.add_safe_globals`. We recommend you start setting `weights_only=True` for any use case where you don't have full control of the loaded file. Please open an issue on GitHub for any issues related to this experimental feature.\n  offloaded_W = torch.load(filename, map_location = \"cpu\", mmap = True)\n",
          "output_type": "stream"
        },
        {
          "name": "stdout",
          "text": "Unsloth: Offloading output_embeddings to disk to save VRAM\n",
          "output_type": "stream"
        },
        {
          "name": "stderr",
          "text": "Unsloth 2025.1.8 patched 28 layers with 28 QKV layers, 28 O layers and 28 MLP layers.\n",
          "output_type": "stream"
        },
        {
          "name": "stdout",
          "text": "Unsloth: Training embed_tokens in mixed precision to save VRAM\nUnsloth: Training lm_head in mixed precision to save VRAM\n",
          "output_type": "stream"
        }
      ],
      "execution_count": null
    },
    {
      "cell_type": "code",
      "source": [
        "translate_prompt = \"\"\"Tradu urmatorul text din limba Română în limba Romani (vorbită de Romii din România):\n",
        "Română: {}\n",
        "Romani: {}\"\"\"\n",
        "\n",
        "EOS_TOKEN = tokenizer.eos_token\n",
        "def formatting_prompts_func(examples):\n",
        "    ro_texts = [entry[\"ro\"] for entry in examples[\"translation\"]]  # Extract 'ro'\n",
        "    roma_texts = [entry[\"roma\"] for entry in examples[\"translation\"]]  # Extract 'roma'\n",
        "\n",
        "    outputs = [\n",
        "        translate_prompt.format(ro_text, roma_text) + EOS_TOKEN\n",
        "        for ro_text, roma_text in zip(ro_texts, roma_texts)\n",
        "    ]\n",
        "\n",
        "    return {\"text\": outputs}"
      ],
      "metadata": {
        "trusted": true,
        "execution": {
          "iopub.status.busy": "2025-02-04T17:12:33.942075Z",
          "iopub.execute_input": "2025-02-04T17:12:33.942384Z",
          "iopub.status.idle": "2025-02-04T17:12:33.947289Z",
          "shell.execute_reply.started": "2025-02-04T17:12:33.942363Z",
          "shell.execute_reply": "2025-02-04T17:12:33.946304Z"
        },
        "id": "V_8n2sKmADsa"
      },
      "outputs": [],
      "execution_count": null
    },
    {
      "cell_type": "code",
      "source": [
        "train_mapped = train_dataset.map(formatting_prompts_func, batched = True)"
      ],
      "metadata": {
        "trusted": true,
        "execution": {
          "iopub.status.busy": "2025-02-04T17:12:33.948155Z",
          "iopub.execute_input": "2025-02-04T17:12:33.94845Z",
          "iopub.status.idle": "2025-02-04T17:12:34.383588Z",
          "shell.execute_reply.started": "2025-02-04T17:12:33.948421Z",
          "shell.execute_reply": "2025-02-04T17:12:34.38265Z"
        },
        "colab": {
          "referenced_widgets": [
            "ccf85ed26cf049baa93bc6950c5ae468"
          ]
        },
        "id": "SiYqsDArADsb",
        "outputId": "84e38e72-1d4f-4c20-d710-d0521d85f0f0"
      },
      "outputs": [
        {
          "output_type": "display_data",
          "data": {
            "text/plain": "Map:   0%|          | 0/8580 [00:00<?, ? examples/s]",
            "application/vnd.jupyter.widget-view+json": {
              "version_major": 2,
              "version_minor": 0,
              "model_id": "ccf85ed26cf049baa93bc6950c5ae468"
            }
          },
          "metadata": {}
        }
      ],
      "execution_count": null
    },
    {
      "cell_type": "code",
      "source": [
        "import wandb\n",
        "wandb.login(key=\"3bab896b9406c75d767c42c46006b519367ec383\")"
      ],
      "metadata": {
        "trusted": true,
        "execution": {
          "iopub.status.busy": "2025-02-04T17:12:34.384506Z",
          "iopub.execute_input": "2025-02-04T17:12:34.384792Z",
          "iopub.status.idle": "2025-02-04T17:12:40.005358Z",
          "shell.execute_reply.started": "2025-02-04T17:12:34.38476Z",
          "shell.execute_reply": "2025-02-04T17:12:40.004455Z"
        },
        "id": "ZRYUYRXEADsb",
        "outputId": "fa449c30-1ec7-4f7b-9ef4-8cec646e983e"
      },
      "outputs": [
        {
          "name": "stderr",
          "text": "\u001b[34m\u001b[1mwandb\u001b[0m: \u001b[33mWARNING\u001b[0m If you're specifying your api key in code, ensure this code is not shared publicly.\n\u001b[34m\u001b[1mwandb\u001b[0m: \u001b[33mWARNING\u001b[0m Consider setting the WANDB_API_KEY environment variable, or running `wandb login` from the command line.\n\u001b[34m\u001b[1mwandb\u001b[0m: Appending key for api.wandb.ai to your netrc file: /root/.netrc\n\u001b[34m\u001b[1mwandb\u001b[0m: Currently logged in as: \u001b[33mhandacradu\u001b[0m (\u001b[33mechipa-radu\u001b[0m) to \u001b[32mhttps://api.wandb.ai\u001b[0m. Use \u001b[1m`wandb login --relogin`\u001b[0m to force relogin\n",
          "output_type": "stream"
        },
        {
          "execution_count": 13,
          "output_type": "execute_result",
          "data": {
            "text/plain": "True"
          },
          "metadata": {}
        }
      ],
      "execution_count": null
    },
    {
      "cell_type": "code",
      "source": [
        "from unsloth import is_bfloat16_supported\n",
        "from unsloth import UnslothTrainer, UnslothTrainingArguments\n",
        "\n",
        "trainer = UnslothTrainer(\n",
        "    model = model,\n",
        "    tokenizer = tokenizer,\n",
        "    train_dataset = train_mapped,\n",
        "    dataset_text_field = \"text\",\n",
        "    max_seq_length = max_seq_length,\n",
        "    dataset_num_proc = 2,\n",
        "\n",
        "    args = UnslothTrainingArguments(\n",
        "        per_device_train_batch_size = 2,\n",
        "        gradient_accumulation_steps = 8,\n",
        ",\n",
        "        warmup_ratio = 0.2,\n",
        "        num_train_epochs = 4,\n",
        "\n",
        "\n",
        "        learning_rate = 5e-5,\n",
        "        embedding_learning_rate = 1e-5,\n",
        "\n",
        "        fp16 = not is_bfloat16_supported(),\n",
        "        bf16 = is_bfloat16_supported(),\n",
        "        logging_steps = 100,\n",
        "        save_strategy=\"no\",\n",
        "        optim = \"paged_adamw_8bit\",\n",
        "        weight_decay = 0.01,\n",
        "        lr_scheduler_type = \"linear\",\n",
        "        seed = 3407,\n",
        "        output_dir = \"llama3.2_3b\",\n",
        "        report_to = \"wandb\",\n",
        "    ),\n",
        ")"
      ],
      "metadata": {
        "trusted": true,
        "execution": {
          "iopub.status.busy": "2025-02-04T17:12:40.006305Z",
          "iopub.execute_input": "2025-02-04T17:12:40.007056Z",
          "iopub.status.idle": "2025-02-04T17:12:43.049348Z",
          "shell.execute_reply.started": "2025-02-04T17:12:40.00703Z",
          "shell.execute_reply": "2025-02-04T17:12:43.048653Z"
        },
        "colab": {
          "referenced_widgets": [
            "1c4935eb320b4f039ee04a6366b5c29a"
          ]
        },
        "id": "rOHNRf4nADsb",
        "outputId": "74e96e6b-8561-490e-c309-ed467a080f15"
      },
      "outputs": [
        {
          "output_type": "display_data",
          "data": {
            "text/plain": "Map (num_proc=2):   0%|          | 0/8580 [00:00<?, ? examples/s]",
            "application/vnd.jupyter.widget-view+json": {
              "version_major": 2,
              "version_minor": 0,
              "model_id": "1c4935eb320b4f039ee04a6366b5c29a"
            }
          },
          "metadata": {}
        }
      ],
      "execution_count": null
    },
    {
      "cell_type": "code",
      "source": [
        "\n",
        "gpu_stats = torch.cuda.get_device_properties(0)\n",
        "start_gpu_memory = round(torch.cuda.max_memory_reserved() / 1024 / 1024 / 1024, 3)\n",
        "max_memory = round(gpu_stats.total_memory / 1024 / 1024 / 1024, 3)\n",
        "print(f\"GPU = {gpu_stats.name}. Max memory = {max_memory} GB.\")\n",
        "print(f\"{start_gpu_memory} GB of memory reserved.\")"
      ],
      "metadata": {
        "trusted": true,
        "execution": {
          "iopub.status.busy": "2025-02-04T17:12:43.050388Z",
          "iopub.execute_input": "2025-02-04T17:12:43.050706Z",
          "iopub.status.idle": "2025-02-04T17:12:43.056532Z",
          "shell.execute_reply.started": "2025-02-04T17:12:43.050669Z",
          "shell.execute_reply": "2025-02-04T17:12:43.055682Z"
        },
        "id": "8xbfOlhpADsb",
        "outputId": "520c37d8-44ea-45ed-aa23-9822eaf64d6d"
      },
      "outputs": [
        {
          "name": "stdout",
          "text": "GPU = Tesla T4. Max memory = 14.741 GB.\n5.342 GB of memory reserved.\n",
          "output_type": "stream"
        }
      ],
      "execution_count": null
    },
    {
      "cell_type": "code",
      "source": [
        "trainer_stats = trainer.train()"
      ],
      "metadata": {
        "trusted": true,
        "execution": {
          "iopub.status.busy": "2025-02-04T17:12:43.057426Z",
          "iopub.execute_input": "2025-02-04T17:12:43.057651Z",
          "iopub.status.idle": "2025-02-04T21:01:27.60168Z",
          "shell.execute_reply.started": "2025-02-04T17:12:43.05763Z",
          "shell.execute_reply": "2025-02-04T21:01:27.600979Z"
        },
        "id": "12zVdCRkADsb",
        "outputId": "74b20db0-391a-46d1-9833-639c68ebd8f0"
      },
      "outputs": [
        {
          "name": "stderr",
          "text": "==((====))==  Unsloth - 2x faster free finetuning | Num GPUs = 1\n   \\\\   /|    Num examples = 8,580 | Num Epochs = 4\nO^O/ \\_/ \\    Batch size per device = 2 | Gradient Accumulation steps = 8\n\\        /    Total batch size = 16 | Total steps = 2,144\n \"-____-\"     Number of trainable parameters = 836,632,576\n\u001b[34m\u001b[1mwandb\u001b[0m: \u001b[33mWARNING\u001b[0m The `run_name` is currently set to the same value as `TrainingArguments.output_dir`. If this was not intended, please specify a different run name by setting the `TrainingArguments.run_name` parameter.\n\u001b[34m\u001b[1mwandb\u001b[0m: Using wandb-core as the SDK backend.  Please refer to https://wandb.me/wandb-core for more information.\n",
          "output_type": "stream"
        },
        {
          "output_type": "display_data",
          "data": {
            "text/plain": "<IPython.core.display.HTML object>",
            "text/html": "Tracking run with wandb version 0.19.5"
          },
          "metadata": {}
        },
        {
          "output_type": "display_data",
          "data": {
            "text/plain": "<IPython.core.display.HTML object>",
            "text/html": "Run data is saved locally in <code>/kaggle/working/wandb/run-20250204_171246-gk1u98hn</code>"
          },
          "metadata": {}
        },
        {
          "output_type": "display_data",
          "data": {
            "text/plain": "<IPython.core.display.HTML object>",
            "text/html": "Syncing run <strong><a href='https://wandb.ai/echipa-radu/huggingface/runs/gk1u98hn' target=\"_blank\">llama3.2_3b</a></strong> to <a href='https://wandb.ai/echipa-radu/huggingface' target=\"_blank\">Weights & Biases</a> (<a href='https://wandb.me/developer-guide' target=\"_blank\">docs</a>)<br>"
          },
          "metadata": {}
        },
        {
          "output_type": "display_data",
          "data": {
            "text/plain": "<IPython.core.display.HTML object>",
            "text/html": " View project at <a href='https://wandb.ai/echipa-radu/huggingface' target=\"_blank\">https://wandb.ai/echipa-radu/huggingface</a>"
          },
          "metadata": {}
        },
        {
          "output_type": "display_data",
          "data": {
            "text/plain": "<IPython.core.display.HTML object>",
            "text/html": " View run at <a href='https://wandb.ai/echipa-radu/huggingface/runs/gk1u98hn' target=\"_blank\">https://wandb.ai/echipa-radu/huggingface/runs/gk1u98hn</a>"
          },
          "metadata": {}
        },
        {
          "output_type": "display_data",
          "data": {
            "text/plain": "<IPython.core.display.HTML object>",
            "text/html": "\n    <div>\n      \n      <progress value='2144' max='2144' style='width:300px; height:20px; vertical-align: middle;'></progress>\n      [2144/2144 3:48:23, Epoch 3/4]\n    </div>\n    <table border=\"1\" class=\"dataframe\">\n  <thead>\n <tr style=\"text-align: left;\">\n      <th>Step</th>\n      <th>Training Loss</th>\n    </tr>\n  </thead>\n  <tbody>\n    <tr>\n      <td>100</td>\n      <td>3.153700</td>\n    </tr>\n    <tr>\n      <td>200</td>\n      <td>2.058500</td>\n    </tr>\n    <tr>\n      <td>300</td>\n      <td>1.724500</td>\n    </tr>\n    <tr>\n      <td>400</td>\n      <td>1.533000</td>\n    </tr>\n    <tr>\n      <td>500</td>\n      <td>1.434200</td>\n    </tr>\n    <tr>\n      <td>600</td>\n      <td>1.270000</td>\n    </tr>\n    <tr>\n      <td>700</td>\n      <td>1.185300</td>\n    </tr>\n    <tr>\n      <td>800</td>\n      <td>1.153500</td>\n    </tr>\n    <tr>\n      <td>900</td>\n      <td>1.109800</td>\n    </tr>\n    <tr>\n      <td>1000</td>\n      <td>1.102500</td>\n    </tr>\n    <tr>\n      <td>1100</td>\n      <td>1.011900</td>\n    </tr>\n    <tr>\n      <td>1200</td>\n      <td>0.816100</td>\n    </tr>\n    <tr>\n      <td>1300</td>\n      <td>0.825600</td>\n    </tr>\n    <tr>\n      <td>1400</td>\n      <td>0.821600</td>\n    </tr>\n    <tr>\n      <td>1500</td>\n      <td>0.823700</td>\n    </tr>\n    <tr>\n      <td>1600</td>\n      <td>0.803700</td>\n    </tr>\n    <tr>\n      <td>1700</td>\n      <td>0.614600</td>\n    </tr>\n    <tr>\n      <td>1800</td>\n      <td>0.611700</td>\n    </tr>\n    <tr>\n      <td>1900</td>\n      <td>0.599200</td>\n    </tr>\n    <tr>\n      <td>2000</td>\n      <td>0.585700</td>\n    </tr>\n    <tr>\n      <td>2100</td>\n      <td>0.592000</td>\n    </tr>\n  </tbody>\n</table><p>"
          },
          "metadata": {}
        }
      ],
      "execution_count": null
    },
    {
      "cell_type": "code",
      "source": [
        "model.save_pretrained('llama3.2_3b')\n",
        "tokenizer.save_pretrained('llama3.2_3b')"
      ],
      "metadata": {
        "trusted": true,
        "execution": {
          "iopub.status.busy": "2025-02-04T21:31:44.053606Z",
          "iopub.execute_input": "2025-02-04T21:31:44.053961Z",
          "iopub.status.idle": "2025-02-04T21:31:53.893939Z",
          "shell.execute_reply.started": "2025-02-04T21:31:44.053932Z",
          "shell.execute_reply": "2025-02-04T21:31:53.893Z"
        },
        "id": "8MPX0X1xADsc",
        "outputId": "695bffab-e763-4a95-a0f1-49ba5a886691"
      },
      "outputs": [
        {
          "execution_count": 30,
          "output_type": "execute_result",
          "data": {
            "text/plain": "('llama3.2_3b/tokenizer_config.json',\n 'llama3.2_3b/special_tokens_map.json',\n 'llama3.2_3b/tokenizer.json')"
          },
          "metadata": {}
        }
      ],
      "execution_count": null
    },
    {
      "cell_type": "code",
      "source": [
        "import gc\n",
        "for _ in range(5):\n",
        "    gc.collect()\n",
        "    torch.cuda.empty_cache()"
      ],
      "metadata": {
        "trusted": true,
        "execution": {
          "iopub.status.busy": "2025-02-04T21:12:20.741842Z",
          "iopub.execute_input": "2025-02-04T21:12:20.742178Z",
          "iopub.status.idle": "2025-02-04T21:12:22.873536Z",
          "shell.execute_reply.started": "2025-02-04T21:12:20.742149Z",
          "shell.execute_reply": "2025-02-04T21:12:22.872877Z"
        },
        "id": "jRwvu6HBADsc"
      },
      "outputs": [],
      "execution_count": null
    },
    {
      "cell_type": "code",
      "source": [
        "\n",
        "used_memory = round(torch.cuda.max_memory_reserved() / 1024 / 1024 / 1024, 3)\n",
        "used_memory_for_lora = round(used_memory - start_gpu_memory, 3)\n",
        "used_percentage = round(used_memory         /max_memory*100, 3)\n",
        "lora_percentage = round(used_memory_for_lora/max_memory*100, 3)\n",
        "print(f\"{trainer_stats.metrics['train_runtime']} seconds used for training.\")\n",
        "print(f\"{round(trainer_stats.metrics['train_runtime']/60, 2)} minutes used for training.\")\n",
        "print(f\"Peak reserved memory = {used_memory} GB.\")\n",
        "print(f\"Peak reserved memory for training = {used_memory_for_lora} GB.\")\n",
        "print(f\"Peak reserved memory % of max memory = {used_percentage} %.\")\n",
        "print(f\"Peak reserved memory for training % of max memory = {lora_percentage} %.\")"
      ],
      "metadata": {
        "trusted": true,
        "execution": {
          "iopub.status.busy": "2025-02-04T21:12:24.201924Z",
          "iopub.execute_input": "2025-02-04T21:12:24.20228Z",
          "iopub.status.idle": "2025-02-04T21:12:24.211627Z",
          "shell.execute_reply.started": "2025-02-04T21:12:24.202246Z",
          "shell.execute_reply": "2025-02-04T21:12:24.210726Z"
        },
        "id": "9qB4P7m_ADsc",
        "outputId": "15fae64d-8445-45a7-a7a2-241cfa2b62a1"
      },
      "outputs": [
        {
          "name": "stdout",
          "text": "13721.2984 seconds used for training.\n228.69 minutes used for training.\nPeak reserved memory = 11.16 GB.\nPeak reserved memory for training = 5.818 GB.\nPeak reserved memory % of max memory = 75.707 %.\nPeak reserved memory for training % of max memory = 39.468 %.\n",
          "output_type": "stream"
        }
      ],
      "execution_count": null
    },
    {
      "cell_type": "code",
      "source": [
        "selected_sample = \"Daţi mai bine milostenie din lucrurile dinlăuntru, şi atunci toate vă vor fi curate.\"\n",
        "inference_prompt = \"\"\"Tradu urmatorul text din limba Română în limba Romani (vorbită de Romii din România):\n",
        "Română: {}\n",
        "Romani: \"\"\"\n",
        "\n",
        "FastLanguageModel.for_inference(model)\n",
        "inputs = tokenizer([inference_prompt.format(selected_sample)], return_tensors = \"pt\").to(\"cuda\")\n",
        "\n",
        "outputs = model.generate(**inputs, max_new_tokens = 4096, use_cache = True, do_sample=False)\n",
        "tokenizer.batch_decode(outputs)"
      ],
      "metadata": {
        "trusted": true,
        "execution": {
          "iopub.status.busy": "2025-02-04T21:35:31.674471Z",
          "iopub.execute_input": "2025-02-04T21:35:31.67493Z",
          "iopub.status.idle": "2025-02-04T21:35:33.371066Z",
          "shell.execute_reply.started": "2025-02-04T21:35:31.674892Z",
          "shell.execute_reply": "2025-02-04T21:35:33.370065Z"
        },
        "id": "Eer3qguOADsc",
        "outputId": "6d3ae522-65c9-4b25-addf-96711c89d4d2"
      },
      "outputs": [
        {
          "execution_count": 35,
          "output_type": "execute_result",
          "data": {
            "text/plain": "['<|begin_of_text|>Tradu urmatorul text din limba Română în limba Romani (vorbită de Romii din România):\\nRomână: Daţi mai bine milostenie din lucrurile dinlăuntru, şi atunci toate vă vor fi curate.\\nRomani: 1 De mai but love kal chache kai si tume andre, ai antunchi sa vuzhara avena.<|eot_id|>']"
          },
          "metadata": {}
        }
      ],
      "execution_count": null
    },
    {
      "cell_type": "code",
      "source": [
        "\n",
        "prompt_template = \"\"\"Tradu urmatorul text din limba Română în limba Romani (vorbită de Romii din România):\n",
        "Română: {}\n",
        "Romani: \"\"\"\n",
        "def translate(texts):\n",
        "    prompts = [prompt_template.format(text) for text in texts]\n",
        "    inputs = tokenizer(prompts, return_tensors=\"pt\", truncation=True, padding=True).to(\"cuda\")\n",
        "\n",
        "    outputs = model.generate(**inputs, max_new_tokens=100, use_cache=True, do_sample=False)\n",
        "    decoded = tokenizer.batch_decode(outputs, skip_special_tokens=True)\n",
        "\n",
        "    # Extract translated sentences\n",
        "    translations = [text.split(\"\\nRomani:\")[1] for text in decoded]\n",
        "    return translations"
      ],
      "metadata": {
        "trusted": true,
        "execution": {
          "iopub.status.busy": "2025-02-04T21:36:45.872897Z",
          "iopub.execute_input": "2025-02-04T21:36:45.873234Z",
          "iopub.status.idle": "2025-02-04T21:36:45.879078Z",
          "shell.execute_reply.started": "2025-02-04T21:36:45.873209Z",
          "shell.execute_reply": "2025-02-04T21:36:45.878226Z"
        },
        "id": "88eJhLVmADsc"
      },
      "outputs": [],
      "execution_count": null
    },
    {
      "cell_type": "code",
      "source": [
        "from tqdm import tqdm\n",
        "\n",
        "test_dataset = test_eval_split[\"test\"]\n",
        "\n",
        "romanian_sentences = [example[\"translation\"][\"ro\"] for example in test_dataset]\n",
        "romani_ground_truth = [[example[\"translation\"][\"roma\"]] for example in test_dataset]  # List of lists\n",
        "\n",
        "batch_size = 16\n",
        "translated_sentences = []\n",
        "\n",
        "\n",
        "for i in tqdm(range(0, len(romanian_sentences), batch_size), desc=\"Translating\", unit=\"batch\"):\n",
        "    batch = romanian_sentences[i : i + batch_size]  # Get batch\n",
        "    translated_sentences.extend(translate(batch))  # Translate and append\n",
        "\n",
        "\n",
        "bleu_score = corpus_bleu(translated_sentences, romani_ground_truth).score\n",
        "\n",
        "print(\"=\" * 50)\n",
        "print(f\"BLEU Score: {bleu_score}\")\n",
        "print(\"=\" * 50)"
      ],
      "metadata": {
        "trusted": true,
        "execution": {
          "iopub.status.busy": "2025-02-04T21:36:47.055818Z",
          "iopub.execute_input": "2025-02-04T21:36:47.056176Z",
          "iopub.status.idle": "2025-02-04T21:48:49.355456Z",
          "shell.execute_reply.started": "2025-02-04T21:36:47.056133Z",
          "shell.execute_reply": "2025-02-04T21:48:49.354382Z"
        },
        "id": "XaIeXbraADsc",
        "outputId": "a0a8f5b4-c58e-4462-e6c3-ad1a1b082d52"
      },
      "outputs": [
        {
          "name": "stderr",
          "text": "Translating: 100%|██████████| 68/68 [12:02<00:00, 10.62s/batch]",
          "output_type": "stream"
        },
        {
          "name": "stdout",
          "text": "==================================================\nBLEU Score: 21.3643503198117\n==================================================\n",
          "output_type": "stream"
        },
        {
          "name": "stderr",
          "text": "\n",
          "output_type": "stream"
        }
      ],
      "execution_count": null
    },
    {
      "cell_type": "code",
      "source": [
        "translated_sentences"
      ],
      "metadata": {
        "trusted": true,
        "execution": {
          "iopub.status.busy": "2025-02-04T21:50:30.112541Z",
          "iopub.execute_input": "2025-02-04T21:50:30.112878Z",
          "iopub.status.idle": "2025-02-04T21:50:30.129736Z",
          "shell.execute_reply.started": "2025-02-04T21:50:30.112847Z",
          "shell.execute_reply": "2025-02-04T21:50:30.128813Z"
        },
        "collapsed": true,
        "jupyter": {
          "outputs_hidden": true
        },
        "id": "H7KDaJ7DADsd",
        "outputId": "6f42d7d0-cbc0-402f-d51f-afd8cc4ddb1e"
      },
      "outputs": [
        {
          "execution_count": 39,
          "output_type": "execute_result",
          "data": {
            "text/plain": "[' 1) Den mai but love kal chorhe kai si tume andre, ai antunchi sa vuzhilela.',\n ' 9 O Ježiš phenďa, hoj peske kampel te modľinas, kaj o kraľišagos le Devleskero te avel, a oda, so o Del kamel, te kerel pes upre savore phuv.',\n ' 3 Ando tampla, wo arakhlia kodolen kai bichinenas zhege, ai zhege le bakre ai le gurumlia, ai kodolen kai parhuvenas le love.',\n ' 1 Zhanas, murhe phral, ke O Del drago les tumenge te alosardia tume.',\n ' 3 Ai sar xanas lensa, lia o manrho, ai kana naisilas le Devles, phaglia les, ai dia les te xan.',\n '  Nasul tumenge, Gramnoturia ai Farizeanuria! Tume san sar le greposhevki kai si shukar avrial, numa andral si pherde le mule, ai sa le nasulimata.',\n ' 8 O Jesus phendia lenge, \"Tume roden te sikaven ke vorta san angla manush, numa O Del zhanel tumare ile; ke so si baro mashkar le manush si gratsia le Devleske.',\n ' 9 Numa chi dashtinas te den duma pa leste angla narodo, ke chudisaile kana ashunde sar del duma, ai chi mai phende khanch.',\n ' 1. a) So pes ačhiľa, kaj amenge te el lačho dživipen?',\n '  Ke o Iovano bolelas le paiesa, numa chi mai xantsi vriama, tume avena bolede le Swuntone Duxosa.',\n ' 1. Numa nashti kerdia chi iek miraklo kotse, numa thodia le vas pe uni naswalen ai sastiardia le.',\n ' 3. Akana sim krisinime ke O Del shinadia amare dadenge.',\n ' 23 Kana aresle ka o bari khash, karfosarde les ai kodolen kai kerde o nasulimos lesa, iek ka lesko chacho vas ai iek ka lesko stingo.',\n ' 1 Kana kado lil avela jindia tumende, jin les vi ande khangeri ande Laodicea, ai tume jinena kodo lil kai avela tumendar ande Laodicea.',\n ' 9 O Jehovas tuke hin zor,',\n ' 1 E Lydda pashe leste katar o Joppa, le disipluria ashunde ke o Petri sas kotse, trade dui manush leste, te phenen leske, \"Na zhan te aidi amende.\"',\n ' 3) Kana dašti te dav duma le gazdaske?',\n ' 6 Numa e dei le Iovanoski phendia, \"Nichi, akharena les Iovano.\"',\n ' 8 O Jesus mai phendia lenge, \"Me zhav ai tume rodena ma, ai tume merena ande tumaro bezex; kai me zhav tume nashtin te aven tume.\"',\n ' 1) Akana, bi te el e lill, našťi dživel.',\n ' 1 Zhanav ke nai chi martia, chi traio, chi le angeluria, chi le putiera, chi le dieli kadala lumiake, vai le dieli kai si te aven mai angle.',\n ' Țeďa mište?',\n ' 1. Trobul te aven zumade angla le bare kai len sama le Devlesa, ai te aven vorta angla leste, antunchi sai aven diaconi.',\n ' 1 Numa le Zhiduvuria chi mangle te meken ma te zhav ando baro kris le amperatosko, ai me simas phangle te kerav kodia.',\n ' 3. So tumenge šaj pomožinel te na keren ikoni andre kher the te na modľinel kamenen koľekeri?',\n ' 6 Kai lo o gojaver manush? Kai lo o manush kai ramol le zakonuria? Kai lo o manush kai divinil o chachimos? Kai O Del chi dia leski goji la lumiake te kerel bezex?',\n ' 1) O Del kamel ame te avas leskere čhavores.',\n ' 3 Antunchi boldiape karing lende, ai arakhlias le sovenas, ke lenge iakha phandade sas katar o soven.',\n ' ʒuʒuʒuʒa!',\n ' 1 Numa won phende, \"Nashti te keren kadia akana kana si o dies o baro, ke le manush si te xoliariko.\"',\n '  So kerel e fameľija?',\n ' 4 Ai mai tradia aver sluga; ai kado sluga sas mudardo po shero, ai won marenas mui lestar.',\n ' 3 O čhavo la pheňake le Pavloha šunďa, so kamel te kerel.',\n ' 1 O Pavlo akhardia iekes andal ketani kai sas lesa, ai phendia, \"Le kado terne ka baro le ketanengo, ke si vari so te mothol leske.\"',\n ' 1 Uni tsipinas, uni avri, ke nashtisarde te haliaren o chachimos pala barimata kai sas. Antunchi o baro phendia, \"Anen les ando foro.\"',\n ' 3 Zhanen ke O Kristo sikadilo te lel le bezexa le manushenge, ai ke nai chi iek bezex ando Kristo.',\n ' 1. E Biblija hino 66 kňižki',\n ' 1 o Dat anel e rujina mol',\n ' 1 Iek anda leske disipluria, o Andre, o phral le Simonosko Petri phendia leske,',\n ' 1 Won jinenpe ke zhanen le Devles, numa chi keren so mothol o zakono le Devlesko, won chi keren o mishtimos, ai won keren but chorimos, ai won chi keren so trobul le manush te keren,',\n ' 1:12 Kon godi nai ramome ando ramomos le traiosko, avela shudino ande iaz la iagako.',\n ' 2 O Swunto Duxo sikadia amenge ke nashtisardiam te zhas ando Swunto than inker, ke o pervo tsera nas pherdo.',\n ' 9 Te si vari kon kai mothol ke zhanen le Devles, numa chi kerel so mothol, wo si iek xoxamlo, ai nai chachimos ande leste.',\n '  Me phendem tumenge kadala dieli, saxke murho raduimos te beshel ande tumende, ai tumaro te avel pherdo raduimos.',\n ' 16 Swako manush rodia so si leske mishtimos, ai na so si mishtimos le Jesus Kristosko.',\n ' 3 Numa ankliol pe e vurota o chacho. Ke o vurota si pharo, ai o drom kai ingerel ka o baro baiolo si pharo, ai but si kodola kai zhan pe kodo drom.',\n ' 1 Sar o angelo gelotar katar o Cornelius, wo akhardia dui slugen kai sas leske, ai iek zhutitori kai zhutilas les sa data.',\n ' 3 La Rachab paťalas le Jehovaske',\n ' 1 O Herod rodelas te arakhel le Pavlosa, ai kana chi arakhlias les, gelo te arakhel le manushen kai lenas sama le themesa, ai dia ordina te mudaren le.',\n ' 1 O shav phendia leske dadeske, \"Ashun! Kerav chiri buchi sar ek sluga de but bersh, ai shoxar chi kerdem chi iek ordina kai tu dian ma, ai chi dem ma te zhav te vesav murhe vortakon.',\n ' 9, 10) SO PAL ADA PHENEL, sar pes te kerel o Del? (Matúš 6:9, 10) the (Daniel 2:44)',\n ' 8 Antunchi o Festus kana getosardia le bare ketanenge, phendia, \"Tu manglian katar o Caesar te keres tuke kris angla Caesar, ai zhasa ka Caesar.\"',\n ' 1 O Del kamel, kaj pes te el feder.',\n ' 9. Sar pes pisinel amari literatura?',\n ' 1 Numa o Petri phendia leske, \"Vi te trobula te merav tusa, chi mekena tu.\" Ai sa le kolaver phende sakadia.',\n ' 1 Te mangena te zhanen le Titus, kai si murho vortako ande tumende, ai kai kerel buchi mansa mashkar tumende. 2 Te mangena te zhanen amare phral kai si tradine ande tumare khangeria, ai kai si le luvudimos le Kristosko.',\n ' 20 But narodo chidinisailo angla leste, ai nas dosta lokes te beshen angla leste. Wo delas duma E Vorba le Devleski.',\n '  Phenav tumenge o chachimos, te vari kon phenela kai o plai te vazdel ai te shudel ande maria, ai te chi pachala leske, numa te pachala leske ke so phenela avela kerdilo.',\n ' 23 O Felix, kai zhanelas kadia drom, phendia leske, \"Me kerava te zhanav mai but pa tumende kana me avav o baro ketano o Lykas.\"',\n ' 3. O Pilate kana zhanelas ke won dine les ande vas anda pimos, phendia,',\n ' 12 Numa chi avili tumenge iek zumaimos kai nas te avel tumenge katar e putiera le manusheski. O Del kai si les e putiera te kerel so mothol, chi mekel te aven zumade mai but sar tumaro ilo sai avel.',\n ' 2 O baro sap arakhadilo pe phuv, ai dikhlia e zhuvli kai sas la glata.',\n ' ʒi.',\n ' 1 O Del sikadia peske dragostia karing amende kana tradia peske iek Shav ande lumia, kaste te traiisaras lesa.',\n ' 1) So pes dodžanľal andal e Biblija?\\na) Oda, so hin lačho a pomožinel\\nb) Oda, so hin lačho a pharipen',\n '  Nasul la lumiake ke si le bezexa kai ankerdion! Ke nashtil te na avel bezexa, numa nasul kodoleske kai kerdia o bezex.',\n ' 3. Te na mekasa le beng te niril anda amende.',\n ' 3 Dikhen mishto ai zhutisar so godi si kai rimolpe, ke chi arakhlem ke chi kerdian so mangav mange angla mande.',\n ' 1 Numa chi mangav kanchi katar le zhuvlia kai si phoria. Numa mangav len te mothon lenge so trobul te keren, sar iek kai manglia katar O Del te avel ma lasho.',\n '  Ai phendia leske, \"Zha avri anda cho them ai anda cho familia, ai zha ande them kai sikavava tuke.\"',\n ' 1) Ko vladňinel e svetos?',\n ' 1 Kana xanas, swako manush kai si les mai but sar o kher, kai si les xabe, kai si les mai but sar o kher, xal o xabe mai anglal sar te del duma pa kodia diela.',\n '  Ai phendia zurales, \"Vushti opre.\" Ai wushtilo opre anda iek than, ai phirdia.',\n ' 1 Eta, so manges katar le manush kai chide le kimpuria, ai kai shude le kimpuria, numa kai chi chide le kimpuria. Won marenas mui ai won tsipisarde. Won tsipisarde le tsipimasa kai chide le kimpuria ka kher le Devlesko.',\n ' 1 Sar si ramome ande Vorba le Devleski, \"Kodo kai chidia but nas les so trobulas, ai kodo kai chidia xantsi nas les so trobulas.\"',\n ' 1 O mulo manush beshlo tele po shero le koxenge, ai nachinailo te del duma. O Jesus dias les palpale ka leski dei.',\n ' 3. So kerde o Rahab?',\n '  Numa tume chi pachan tume, ke sar phendem tumenge, tume chi san anda murhe bakriorha.',\n ' 8 Numa le disipluria chi haliarde so phendia, ke wo phendia lenge so chi manglia te ashunel, ai daranas te phushen les pa kodia diela.',\n ' 1 Le manush mai but gindin ke trobul te shinav vari kon mai baro, ai kana shinav vari kon, kodia si sar ek zakono kai ankerel le manushen mashkar pende.',\n ' 1 Ashundem pa cho pachamos kai si tu ando Del O Jesus, ai pa cho dragostia karing sa le Devleske naroduria.',\n '  Te phenava e lashi viasta, nai mange lauimos, ke trobul te phenav la, ai baio mange te na phenav e lashi viasta.',\n ' 16 Sa le dieli kai kerdile katar O Del si te ingerel ame ka Del pala Jesus Kristo.',\n ' 8 O Pilate phendia le bare rasha ai le narodoske, \"Chi arakhav chi iek dosh ando kado manush.\"',\n ' 1 O Petri liape pala leste de dural zhi ando bar, ai beshlo tele mashkar le bengeske, ai thodiape pasha iag.',\n ' 1) So hin andro kňižka, so šaj sikavel?',\n ' 4 Porme dikhlem shtar angeluria beshenas andek than po swako rik la phuvake. Won inkerenas le shtar barvalia la phuvake te na del barval pe phuv, pe maria, vai pe kaver khash.',\n ' 16 Sar iek manush zhal avri ande aver them, ai mekel pesko kher, ai dela duma peske slugensa, ai sikavela swakoneske so trobul te kerel, ai phenel le wudaroske te lel sama.',\n '  Numa tume, murhe kuchi phral, keren tumari swuntone ginduria ando pachamos, rhugin tume le Swuntone Duxosa.',\n ' 3 O Jesus dikhlia iekes kai sas chinuime, ai liape pesko traio te avel vorta leste, ai mudardia le manushes kai mudardia les.',\n ' 1 O Del dia le le profetonge te mothon pa leste.',\n ' 2 Ai chi kerdia but mirakluria kotse ke chi pachaiepe ando Del.',\n ' 1 Eta, so butia ma te na avav tumende butivar.',\n ' 11 Le slugi gele karing o wudar, chide le manushen kai arakhle, le lashe ai le chorhe, ai pherde but manush ande kodo kher.',\n '  Te sas vari kon kai nekezhisardia ma, nas ferdi ma kai nekezhisardia, numa tume savorhe, ai kodia kai phenav tumenge, te na dav duma pa kodia mai but.',\n ' 8 Ke O Del shinadia amenge kadia, amare vortacha, te avas vuzhe katar o bi vuzhimos kai si ande amaro stato ai ande amaro duxo, ai te avas vuzhe zhi po gor, ai te na mai avas phangle katar o bi vuzhimos kai si ande amaro stato ai ande amaro duxo.',\n ' 3. Ke iertiv le anda penge bezexa, ai chi mai dena goji ka lenge bezexa ai bi malade.\"',\n ' Ke o goji la lumiako si sar iek dzilo angla Del. E Vorba le Devleski mothol, \"O Del astarel le gojavrenge ke won lenpe ando nasulimos kai si ande lengo goji.\"',\n ' 16 Antunchi le phral le Pavlosarde strazo ando maro; numa o Silas ai o Timote beshle ande Berea.',\n ' 1 Ai mai anglal, le manush kai sas ando pai le Noachoske nas lenge drago so miazolas O Del te kerel. Won marenas le paiesa kai sas ando pai le Noachoske. O Del sas leske rhavda te skepil le paiesa kai sas ando pai le Noachoske. O Del sas leske rhavda te kerel i',\n ' 8 O Del si kai del ame zor ando Kristo, ai kai shordia ame o lashimos lesko.',\n ' 1 O Jesus gelotar katar o foro, numa nas dur katar o kher, o fitsiri kai sas lesko tradia le manushen te phenen leske, \"Gazda, na mai chinis tu, ke chi sim dosta vorta te aves ande murho kher.',\n ' 0, de te sai rhevdin xantsi dzilo katar mande!',\n ' 1) (a) Pal soste peske šaj odphenel o Del?',\n ' 3',\n ' 1 E čhaha, so sî le romengi, sikaven dui shiba.',\n ' 12 the 13 kapitola andre kňižka So šaj sikhľuvas andal e Biblija?',\n '  So xasardian?',\n ' 1 Kon chi kerel kadia buchi mansa, si ke antunchi, ai kon chi kerel buchi mansa, xasavol.',\n ' 3. O Pavlo delas duma pa Del ando anav le Jesusosko, ai motholas pa Del bi darako. Le Zhiduvuria kai denas duma Grekish, ai won rodenas te mudaren les.',\n ' 3. Wo dia ame te avas iek traio kai avel katar O Del, ai te avas iek traio kai avel katar O Del, ai te avas iek traio kai avel katar O Del, ai te avas iek traio kai avel katar O Del, ai te avas iek traio kai avel katar O Del, ai te avas iek traio kai',\n '  Šaj arakhen ajse stranki pal o kongresuria, so pes ačhena, the pal o filiľa, so hin andre tiro foro.',\n ' 3. So pes kerel o Rahab?',\n ' 3. Ke chi pachan ma, won chi zhanen ke kadia si.',\n ' 1 No akana, tume le glate, beshen ando Kristo, saxke kana avela, ame te avas zorale, ai te na avel ame lazhav kana avela, ai te na durion katar leste.',\n ' 1 Ai ame dikhliam ai phendiam ke O Dat tradia peske shaves te skepil e lumia.',\n '  O manush shudelas pe phuv ai daralas, ai phendia, \"Devla, so manges mandar te kerav?\" O Del phendia leske, \"Wushti ai zha ando foro, ai ande cho foro avela phendo so trobul te keres.\"',\n ' 3) O romňa, so leske dživel, mušinel te starinel pal e romňi, pal le čhaven, pal le čhavenca the pal le čhavenca',\n ' 1 Petri 4:13',\n ' 1 Ke pala kodo skepimos kai azhukerel tume ando rhaio, ai kai phendia tumenge mai anglal ando chachimos kai avel katar e lashi viasta.',\n ' 1) (a) Ko dživelaha pro furt?',\n ' 1 Ke khonik nashti thol vari so kai nai o fundo kai sas thodino, o fundo si O Jesus Kristo.',\n ' 3. O pachamos kerel buchi le lashimasa, ai kodia kerel buchi le lashimasa, ai kadia kerel buchi le lashimasa, ai kodia kerel buchi le lashimasa,',\n ' 8 O Jesus phendia lenge, \"Savo manush kai sichardia o zakono le rhaiosko, si sar iek gazda kai si ando lesko kher, wo anel neve dieli ai vuni dieli.\"',\n ' 1 Ai o mai terno andal shtar phral phendia leske, \"Murho dat, de ma murho partia kai si murhi.\"',\n ' 6 O Jesus sikadia peske disiplonge ke wo sas O Shav le Devlesko ando foro kai bushol Cana ando Galilee.',\n ' 3. Numa trobul te zhav adies, ai terhara, ai tereski, ke chi sai merel ek profeto avri anda Jerusalem.',\n ' 1 Numa O Jesus phendia, \"Mek te avel ando pacha, ke woi garadiama ma te avela ma gropomasa.',\n ' 8 Ke O Del tradia kado manush te del duma le vorbi le Devleske, ke O Del chi kerel les te del O Swunto Duxo le Devlesko sar kerel le kolavren.',\n ' 3. Me sim o manrho le traiosko.',\n ' 9 O kraľišagos le Devleskero hino vladňe, so o Jehovas stvorinďa andro ňebos.',\n ' 2 tila paśe.',\n ' 1 Te nas O Del xantsi lasho le manushensa ande lumia, wo skepisardia o Noah, kodo kai sicharelas pa chachimos, ai shtar aver manush kai sas lesa lesa, kana tradia e potopa pe lumia le bezexalenge.',\n '  Murhe phral le Devleske, tume kai san akharde katar O Del ando rhaio, arakhen tume ka o apostle ai ka o rashai amaro zakono, kodo si O Jesus.',\n '  Traden but bax, ai but zor ka khangeri kai si ande penge kher. Traden but bax ai but zor ka Epenetus, murho kuchi vortako, wo sas o pervo kai dia fruta ka Kristo andai Asia.',\n '  Ke le manush avena drago lenge pe pende, ai lenge love, ai won mothon ke won si barvale, ai won gindin ke won si mai mishto, ai won chi pachan o mui penge datenge, ai won chi keren so mangel lenge dada,',\n ' 5 O Samuel kerďa savoro, so hin lačho',\n ' 3. Wo kerelas bare mirakluria, ai kerdia te zhal iag anda cheri pe phuv angla le manush.',\n ' 1 Te san manush kai san shave ai kai san zhuvlia, ai kai san phure, ai kai chi san phure, chi keren kanchi. Numa trobul te le sama le zakononsa le Devleske.',\n ' 3. Wo trobul te traiil pala e voia le Devleski, ai na pala le ginduria le manushenge kai si leske mai angle te merel.',\n ' 1. Numa si ame iek altari kai le manush kai keren buchi ando kher nashtin te xan katar kodia altari.',\n ' 8 Antunchi O Jesus phendia lenge, \"Tume manush kai chi haliaren ai kai chi pachan, kana si te pachan so godi phende le profeturia.',\n ' 2 Kodo dies kana zhanas pa drom, lia dui love, ai dia le ka kher, ai phendia leske, \"Le sama anda le, ai so godi tu shes ai chaches avela tuke palpale.\"',\n ' 14 Uni andal disipluria xanas le vastensa bi vuzhe, kodia znachil ke bi vuzhe.',\n ' Ai O Jesus phendia lenge, \"Chi me, chi phenav tumenge katar che putiera kerav kadia.\"',\n ' 1 O Del kamel, hoj peske služinas.',\n ' 1 Kana O Jesus getosardia te anel sa kodola vorbi angla narodo kai ashunelas leste, gelotar ando Capernaum.',\n ' 6 Sa o narodo chidinisailo ka wudar.',\n '  Numa kodo kai si les barvalimos ande kadia lumia, ai dikhlia peske phrales ande vai, ai chi dela leske goji ande leske phrales, so si leske drago le Devles?',\n ' 5 Kana avela kodo dies, tume mangena ande murho anav, ai me phenav tumenge, ke me rhugiva le Dadesa tumenge.',\n ' 1) So phenen o Ježišoskero učeňika, sar pes te odmukhel, te džal, te del peskeri romňa, te džal, te del peskeri romňa?',\n ' 12 Preznaisar sa le manushen, ai drago tumenge tumare phral; daran katar O Del, ai sikaven respektimos ka amperato.',\n ' 8 Ke phenav tumenge, \"Te na avela tumari vorta mai but de sar la vortachongi ai le Farizeanongi, chi avela tume ande amperetsia le rhaioski.\"',\n ' 1 Numa akana ke sanas dur le Devleske, O Kristo andia tume pasha leste pala pesko rat.',\n ' 1 Te sai sikadiuas le manushenge ke o semno ai le mirakluria kerdia o barimos le Devlesko, vai ke O Swunto Duxo kerel o barimos, ame andiam e lashi viasta le Kristoski ande Jerusalem ai ande sa le thema kai si pashe, zhi ande Illyricum.',\n ' 6 Tu sikavesa mange le droma le traioske, ai tu pherdiola ma raduimasa kana dikhesa che ginduria.\"',\n ' 16 O Jesus avilo pasha lende, lia o manrho, ai dia le; ai kerdia sakadia le mashe.',\n ' 1 Te si vari so kai trobul te avel katar O Del, me phenav leske, \"Kana thava les te marelpe, me dava les te zhal.\"',\n ' 1 Chaches me sim dur la statosa, numa murho duxo si tumensa, ai raduime sim te dikhav tumaro lashimos ai tumaro pachamos ando Kristo.',\n ' 1 Ai kadia kerde, na ferdi so manglemas, numa mai anglal dinepe ka Kristo, ai porme ame, kana O Del manglia.',\n ' 1 Kana aresle ando Ephesus, mekle kotse kodolen kai zhutisarde les, ai gelo ando synagogue, ai dia duma le Zhidovonsa.',\n '  Te ramosardiam tumenge, nas te ramosardiam tumenge te avilino uni manush kai kerdia o shudimos vai uni manush kai sas les pe leste, numa te sikavas tumenge amaro baro lashimos karing tumende angla Del.',\n ' 2 O narodo chudisailo katar lesko sicharimos, ke divinilas lesko divano.',\n ' 1) So kerde oda, so sas andre Betel?\\n2) So kerde oda, so sas andre Betel?',\n ' 3. Sar kerdiliaas mai anglal ke o manush kai sas les iek shav kai sas les le Duxosko chinuilas le manushes kai sas les ferdi iek drom ando stato, sakadia kerdilia mai anglal.',\n ' 6 Na gindin ke phenava tumenge angla Dat, ke si vari kon te phenel tumenge ke chi kerdian so manglia tumendar o Moses.',\n ' 3. De duma le bezexalen, saxke te avel le le kolavrenge dar.',\n '  Kodo kai xal murho stato ai pel murho rat si les o traio kai chi mai getolpe; ai zhuvindava les ka traio ka paluno dies.',\n ' 2 Numa nashtisarde te aven zhi ka Jesus kai sas o narodo, line tele o shukar kheresko kai sas opral pa Jesus, ai kana phagen o shukar, gele tele ai thode leste o than kai sas tele o naswalo.',\n ' 1\" Mothon mange, kaste si kodia semno? Kaste si ramome o anav le amperatosko?',\n ' 6 Numa kana getosarde le diesa geliamtar, ai geliamtar, ai dikhliam ame kotsar, ai sa le phral ai le phivlia avile ka amende, zhi ando foro, kotsar beshliam, ai rhugisavas pe changende.',\n ' 6 Te avel o anav le Devlesko O Jesus Kristo luvudime ande tumende, ai tume ande leste, sar O Del ai O Jesus Kristo shinade lesko lashimos pe tumende.',\n ' 8 Kodola manush kai beshenas ando tuniariko, dikhle ek baro vediara.',\n ' 20 berša pes pisinas, pes prethavas, pes šaj džanas avri but biblicka verši.',\n ' 1. Wo chi meklia kanikaske te avel lesa, ferdi o Petri, o Iakov ai lesko phral o Iovano.',\n '  O Jesus phushlia les, \"Sar busho?\" Wo phendia, \"Legion,\" ke but beng avile andai leste.',\n '  Antunchi tume phenena, \"Ame xalem ai piam kai sas tute, ai ande amare droma sichardian le manushen.\"',\n ' 1 Ai ande vriama kai sas e bari bokh ande sa e Egypt ai ande Canaan, amare phure dada rodenas te den ame te xan.',\n ' 3 Wo si amenge, amare vortacha, leski putiera kai nai le lo, ai kai kerel so wo mangel.',\n ' 3.',\n ' 1) O Ježiš vakeras avri andal mrižna phuv.',\n ' 1 O manush kai garavelas le bale wushtilo, ai kana dikhlia le wudara phuterde sas, lia pesko sabiia te mudarelpe, ai wo marelpe te mudarelpe, ke wo gindilas ke kodola kai sas ande temnitsa nashle.',\n ' 1 Sar o manush ando klishka le zakonosko le Devlesko liape, le shtar zhigeni zhuvindil ai le bish tai shtar manush le phure le le Devleske thodepe angla O Bakriorho, ai swako sas les ek sumnakai saxanitsa pherdo rasha ai rhuzha.',\n ' 18 Kado gindo kerela ame te avas sa amende zurale ileske. Numa te si tume aver gindo, O Del dela tume te zhanen so si vorta.',\n ' 8 Le dada le manushenge phende leske, \"Tu san phuro, phush les te phenel amenge so si.\"',\n ' 3. Won mothon pa zakonuria kai si le Zhiduvuria, numa amare Romanonge chi trobul te premis ai te lenpe pala kadala zakonuria.',\n ' 3. O Jehovas amen džanen, sar te dživel.',\n ' ʒanʒaʒa te džava',\n ' ʒuʒu',\n ' 1 O Del dela tume zor ai zor zhi kai getolpe, saxke te na avel tumen khonik dosh ando kodo dies kai avela O Jesus Kristo.',\n ' 1 Sar pasholas pasha Jericho, iek korho beshelas pasha drom ai mangelas love.',\n ' 1 Sar o Jonah beshlo trin dies ai trin rachimasa ando ji le zhigenengo, sakadia O Shav le Manushesko beshela trin dies ai trin rachimasa ando ilo la phuviake.',\n ' 9 Te avka šaj dikhas,',\n ' 1) So pes o Jehovas odphenďa?\\n2) (a) So pes oda, so o manuš na kamel, kerďa?\\n(b) (a) So pes oda, so o manuš kamel, kerďa?\\n(b) (b) So pes oda, so o manuš kamel, ale na kerďa?',\n ' ʒene',\n ' 1 Te kerdem buchi sar le manush kana sas ando Ephesus, marde le zhungale zhigeni kai sas le, so si ma mishto?',\n '  Dikhen tume varekana sîkaimos?',\n ' 0) Karing kai anda angeluria phendia leske, \"Tu san murho Shav, adies kerdilem tu?\" Ai mai, \"Me avava lesko Dat, ai wo avela murho Shav?\"',\n ' 3. Chi gelem ando Jerusalem te dikhav murhe phral kai sas mai anglal mandar apostluria, numa gelem ande Arabia, ai porme gelem palpale ando Damascus.',\n '  Murhe phral, phenav tumenge ke kadia lashi viasta kai phendem, nai katar iek manush.',\n '  o shav le Jesesko, o shav le Jobesko, o shav le Boozesko, o shav le Salmonosko,',\n ' 8 Anda kodia ame chi xasavas. Te si amaro stato naswalo, amaro stato le Devlesko bariol swako dies.',\n ' 1 O Satano sai parhuvelpe ando angelo kai del vediara.',\n ' 1 Kana mekle o narodo, le disipluria line les ando chuno kai sas les, ai kai sas les mai aver chunuria sas lesa.',\n ' 3. (a) So pes ačhilea? — O Jakub the o Judas',\n ' 3. O pervo kontrakto le Devlesko le Zhidovonsa nashtisardia te kerdiol bi te avel rat.',\n ' 5 Te mangena le Devles sar O Dat kodoles kai dosharel bi te zhanen so kerde le manush, trobul te daral ande tumaro pharipe,',\n ' 1 Te si vari kon kai kerel te haliarel so dies si o dies le Devlesko, kodo kerel so mothol o zakono le Devlesko. Te na si vari kon kai haliarel so dies si o dies le Devlesko, kodo chi kerel so mothol o zakono le Devlesko. Vari kon kai xal, kerel so mothol o zakono le Devlesko; ke rhugilpe ka',\n ' 8 Ai phendia, \"Chachimasa phenav tumenge, kacha chorhi phivli kai nai la but diela dia mai but sar sa le kaver.',\n ' 3. O Abraham azhukerelas le Devlesa but vriama, ai porme sas les so sas shinado.',\n ' 9 O Del kamel, kaj o manuša te na roven',\n ' 3. O Del kamel, kaj savore manuša te džanen pal leste.',\n '  Ke wo si amaro pacha, wo kerdia anda dui iek, ai kerdia te pharhavel o zido kai le Zhiduvuria kerenas te hulavel.',\n ' 16 Numa phenav tumenge, but avena anda Easto ai andai Westo, ai avena le Abrahamos, o Isaak ai o Iakov ande e amperetsia le rhaioski.',\n ' 1.5 De sa kadia o Moses si jinde, numa lenge ile chi haliaren les.',\n ' 1 Ame chi mai keras kanchi kai sas nasul, ai kai sas garade ando khas. Ame chi mai keras o nasulimos, ai ame chi mai xoxavas e Vorba le Devleski. Numa ame sikavas o chachimos, ai akana ame sai avas jinde vorta angla le manush, ai angla Del.',\n ' 1 O manush kai gonisarde le beng ande leste manglia te beshel leste, O Jesus phendia leske, \"Zhatar khere ai meken les.\"',\n '  Chi zhanen ke tumare stata si kai kerdia O Kristo? Ai me lava murho stato ai kerava anda lende murho stato?',\n ' 1. Sar pes modľinel?',\n ' 1 Andek dies ando synagogue sas iek manush kai sas les ek beng ande leste, ai tsipisardia zurales.',\n ' 1) Sar šaj el feder romňi?',\n '  Ai wo gindilas pe peste, ai phendia peske, \"So te kerav? Ke nas mai than te chidav murhe fruti.\"',\n ' 1. Kana pele e riat O Jesus beshlo tele le desh u dui disiplonsa.',\n ' 8 Kana O Jesus phendia kadia, vazdia le iakha karing o rhaio, ai phendia, \"Murho Dat, e vriama avili, luvudis che Shav, saxke cho Shav te luvudil tut.\"',\n ' 6 Zhanes so chinuisardem ando Antioch, ai ande Iconium, ai ande Lystra. Zhanes so chinuisardem, numa O Del skepisardia ma anda sa.',\n ' 1) Vašoda, so tumen našťi paťal, muľan',\n ' Ke O Del chi dia ame iek duxo te daras, numa te avas zor, ai te avas drago iek kavreske, ai te zhanas so si vorta.',\n ' 1, 2. Tume san sar le tsinorhe glate kai si ando bazari, ai tsipin won mashkar pende, \"Tume kai kerdian o jeli ai chi kerdian o luvudimos, tume kai kerdian o nekazo ai chi plachilian.\"',\n ' 1) Sar džanas, hoj o aňjela pomožinen le manušen?',\n ' 9 O Ježiš peske phenďa, hoj pes te modľinel a te vakerel le Jehovaskere mena.',\n ' 9. So phenďa o proroctvos? O zborňa sas oda, hoj o zoralo oda, so o amperato vladňinelas, oda, so o zoralo oda, so o amperato vladňinelas, oda, so o zoralo oda, so o amperato vladňinelas, oda, so o zoralo oda, so o am',\n ' 1 Tume manush kai chi pachan tume, o profeto Isaiah phendia pa tumende,',\n ' 1 Numa kana gele kotsar, daraile ai raduimesas, ai grebisailenas te phenen le disiplonge so kerdilia.',\n ' 17 Ko ela vzkrjesimen?',\n ' 1) So pes te arakhel o raduimos?',\n ' 3 Vai kon si kai poronchil pe iek them, kana zhal te marel peske naboresha pe aver them, chi del pe duma mai anglal te sai zhal leske desh mi zhene, sar te avel leske duivardesh mi zhene kai maren les?',\n ' 1 Numa mai anglal phendem le narodos ando Damascus, porme ande Jerusalem, ande sa Judea, ai mashkar le manush kai Nai Zhiduvuria, te keinpe ai te boldenpe karing O Del, ai te keren so trobul te avel lenge te keinpe.',\n '  Numa phenav tumenge, \"Aven drago tumare duzhmaia, ai naisin kodolen kai maren mui tumare ilesa, keren mishtimos kodolen kai chi prinzharan tume, ai rhugin tume kodolen kai chinuin tume.',\n ' 1 Te si ek zhuvli kai nai pachivalo, ai kai mangel te traiil late, chi trobul te hulavel les.',\n ' 8 Kana o Judas gelotar, O Jesus phendia, \"Akana O Shav le Manushesko sas luvudime, ai O Del sas luvudime ande leste.',\n ' 3) Soske hin dvoležito te kerel vortacha, so kamen le Jehovas?',\n '  Ai vi sas zhuvlia, kai sastile le bengen ai le naswalimata, ai vi e Maria Magdalena, kai sastilo le efta beng.',\n '  Ai aver angelo anklisto avri andai tampla, ai tsipisardia le baro glasosa ka o angelo le Devlesko kai beshel ando rhaio, phenelas, \"Le cho sumuntsa ai chidasa, ke o chaso avilo te chidasa, ai e vriama avili kai trobul te chidasa.\"',\n ' 6. Na rušinen tumare čhaven, ale pomožinen lenge te dživen verno le Jehovaske.',\n ' 1. So pes modľinel, te avas le Jehovaskere svedki?',\n ' 6. O stato si sar o kotor le statosko, ai le tsalia le statoske si sar le tsalia le mai shukar.',\n ' 1 O Jesus phendia lenge, \"Vi me phushav tumendar ek divano, ai te phenena mange, me phenava tumenge kon sai kerav kadala mirakluria.',\n ' 1) O manuša hine rroma.',\n ' 8 Ke katar o bezex kerdia te kerel kadia diela, ai katar o bezex kerdia te mudarel ma.',\n ' ʒuʒu',\n ' 8 O Jesus phendia lenge, \"Nai swako manush kai ashunel mande, numa ferdi kodolenge kai O Del del les.',\n ' 1) O Del hino kamel.',\n ' 1 Ningerde les katar o Caiaphas ka kher kai keren le krisa, diminiatsi. Won chi gele andre te xan O Dies O Baro le Zhidovongo.',\n ' 1 O Pavlo dikhlia pe sa le manush, ai phendia, \"Murhe phral, zhi akana traiisardem sar iek manush vuzho ando gindo le Devlesko.\"',\n ' 3 O Del kerdia anda amende ek amperetsia, ai kerdia ame te avas leske rashai, ai leske Dat, O Del, te avel o barimos ai e putiera sa data ai sagda.',\n ' 1 Te si tume iek shel bakriorha, ai xasarela iek, chi mekel le kalaver desh u dui, ai zhal te arakhel o iek kai xasardia.',\n ' 3. Ai kana zhal andek than ande khangeri, rodenas te beshen pasha le mai lashe manush.',\n ' 3 Te phushel che phraleske te mekela murho drom, ai kana tu keres kodia, mek ma te tsirdav o drom tutar?',\n ' 3 E Vorba le Devleski ashundilias mai but, ai mai but narodo pasholas ande Jerusalem, ai but manush andal rashai pachanaspe ando Del.',\n '  Ai phende, \"Phen kadia: \\'Le disipluria avile e riate sar ame sovas, ai line les.\\'',\n ' 8 Swako manush kai rhugilpe vai profetil peske shero phirado, chi respektil peske shero.',\n ' 1. Kamel, hoj peske te el radišagos.',\n ' 30 nevochborne zkraba sas diňa pro furt.',\n ' 3. E Biblija phenel, hoj lenge romňija kamenas te džan.',\n '  Ai le beng phende leske, \"Trade ame andel bale, ai ame sai zhastar ande lende.\"',\n '  Ai gelo palpale ando kher kai keren le krisa, ai phushlia katar O Jesus, \"Katar san tu?\" Numa O Jesus chi phendia leske khanchi.',\n ' 3) O Del amencaľi,',\n ' ʒe sode èiro phutruv?',\n ' 1. Ke iek sakrifis kerdia te aven vorta angla Del sa data.',\n ' 16 Kana phendia kadia, dikhenas pe leste, wushtilo opre ando rhaio, ai ek nuvero garavelas les andal iakha lenge.',\n ' 1 Te sas mai anglal te chinuil but mai but de sar de sar e lumia sas funduii, akana kai aresliam e vriama te avel e vriama kai O Kristo avela, wo avilo ferdi iek data te skepil ame katar amaro bezex katar pesko sakrifis.',\n ' 16 Sar denas duma ai denaspe goji, O Jesus avilo karing lende, ai phiravelas lensa po drom.',\n ' 8 O Pilate phendia lenge, \"So te kerav anda Jesus, kai akharen les Kristo?\" Ai savorhe phende, \"Mudaren les.\"',\n ' 3 Wo si sluga le Devleski te kerel mishtimos tuke. Numa te kerena o nasulimos, arakha tu, ke wo nai xoxamno te kerel kodia. Wo si sluga le Devleski te kerel so godi si vorta angla Del, ai te del dosh ai te chinuil kodolen kai keren o nasulimos.',\n ' 1 So pes te dživel avka sar o manuš?',\n ' 1 Kana phuterdilo o dies, le ketani kai sas le slugi sas xoliariko ke won chi zhanenas so kerdilia le Petreske.',\n ' 24 ai 3/4 manush kai beshen angla Del beshenas pe penge thana, ai shudlepe pe phuv, ai luvudisarde le Devles.',\n ' 8 Ai phendia lenge, \"Chi haliaren?\"',\n ' 18 Kadia si te mothol ke tume mangen te keren so mangen tumare dada, ke won mudarde le profeton, ai tume thon le greposhevuria pe lenge phuv.',\n ' 2 Numa o profeto Joel phendia,',\n ' 1 Sa o narodo kai sas ande kodo baro kai busholas Synod, dikhenas pe Stephen, ai dikhenas les sar ek angelo.',\n ' 3) Te kereha ada, savore, so sî andro kher, dživena.',\n ' 3 Te dikhliape pe kodo kai anklisto avri, avilino sas les vriama te zhaltar palpale ando kodo kher.',\n ' 3. So, sar pes te odphenel o Satan, sikavas, hoj našťi kerel oda, so phenďa.',\n '  Wo phendia leske, \"Nai,\" numa pala ginduria kai sas les, gelo.',\n ' 3. Ai rhugilaspe zurales lestar te na tradel les avri anda kodo them.',\n ' 1 Ame chi ramas tumenge vari so kai chi trobul te zhanen, ferdi so si ramome ande Vorba le Devleski, ai kai tume zhanen.',\n ' 8 No, tume dosharen vi tume, ai so si vorta?',\n ' 1:18 Ame zhanas ke sam leske drago le shave le Devleske, ke sam leske drago le Devles, ai ke pachas ame o zakono le Devlesko.',\n '  Won phende leske, \"Ke khonik chi phuterdia ame.\" Ai wo phendia lenge, \"Zhan, ai primin so si vorta.\"',\n ' 1 Zacheus sastilo sigo, ai raduimasa kana dikhlia O Jesus.',\n '  Kathe si dui manush.',\n ' ʒaka',\n ' 1) So phenes, sar ada daras?',\n ' 1. O Del si iek Del. 2. O Maria alosardia peske partia kai chi avela lino katar O Del.',\n ' 8 O Jesus phendia lenge, \"Marte sim, murho duxo chinuil zurales, beshen katse ai len sama.\"',\n ' 1 Numa ame pachas, ai zhas ando hodimos, kai O Del phendia pa leste, ai phendia, \"Meklia ma ando murho lashimos, ai chi aven ando hodimos murho.\" Numa kerdilia so manglia O Del te kerel mai anglal sar te strefial e lumia.',\n ' 1 E goji si katse! Kodo kai si les goji trobul te avel leske mishto gojaver, te haliarel so si o numero le zhungalo zhigeneske. Ke si iek zhigania sar iek manush, ai lesko numero si shovardesh tai shov ai shovardesh tai shov.',\n ' 1 Antunchi andine le glaten ka Jesus, te thol o vas pe lende, ai te rhugilpe anda lende; numa leske disipluria phende leske,',\n '  Won phende, \"Sai dasa.\" O Jesus phendia lenge, \"Chaches si, o daxtai kai dava, tume si te pen; ai o bolimos kai bolava tume, si te keren tume.',\n ' 3. So pes dodžanľam andal e Biblija?',\n ' 1 Zhanen tume so phendia o Iovano andai Galilee, kana o narodo andai Judea ashunde leste, kana o Iovano dias le te boldenpe ando pai.',\n '  Te sanas andai lumia, e lumia drago lenge so si lenge; numa ke chi san andai lumia, ai ke alosardem tume mashkar le manush kai si andai lumia, e lumia nai drago lenge.',\n ' 8 O Jesus phendia lenge, \"Ama vediara xantsi vriama si mashkar tumende, phiren sar le manush kai si le vediara, saxke te na avel tumare gupuria tuniariko.',\n '  „O Filip sľubinďa, džalas pro Izajaš, kaj te dikhel, a o Ethiopiano čhudňa hlasos pre profetos, phenďa leske: „Hino tuke vareso, so čitines?“',\n ' ʒene beshen?',\n ' 1. Ko sas',\n ' 8\"Numa o them kai avela lenge slugi, me kerava kris pe leste,\" phendia O Del.',\n ' 3 O Jesus gelo po plai le maslinenge.',\n '  Ai eta, me avav sigo! Raduime kodo kai garavel so si ramome ande kadia klishka.\"',\n ' 3) Na xas, na chas, na azba vari so.',\n ' 1 Ai ame pachas ame ando Del ke si te avel o zhuvindimos le chache manushenge ai le bi lashe manushenge.',\n ' 9) Šaj dukhavel.',\n ' 1) Te chuden avrenca, kaj te chraňinen te del o rat pre phuv',\n '  Ai me rhugiva le Dades, ai wo dela tume aver ablakato, kai beshela tumensa sagda.',\n ' 8\" O Del skepisardia avren, numa chi skepil les. Te si O Kristo o amperato le Zhidovongo, akana trobul te anklisto palpale anda ek kruzhos, ai ame te pachas ame ande leste.',\n ' 1 Gezeri, ek foro kai sas pashe, O Jesus phendia peske disiplonge, \"Beshen katka zhi kai rhugiva ma.\"',\n ' 5 Te na keren kadia, keren sar te avilino tumenge vutuimos, ai roven, ai hulaven, ke tumaro rimos trobul te parhuvel ando nekazo, ai tumaro raduimos trobul te parhuvel ando nekazo.',\n ' 8 O amperato nekezhisailo zurales, numa ke phendia ke shoxar chi dikhelas le manushen, ai ke chi manglia te mothol ke chi dikhelas le manushen, chi kerdia chi iek diela.',\n ' 1 Me mothav tumenge, ke si les baro drago tumenge, ai vi kodolenge kai si ande Laodicea, ai vi kodolenge kai si ande Pergamos.',\n ' 9 Te na meken tume te aven streinuria, me avava palpale tumende.',\n ' 1 Te mothos pa Jesus sar o Del kana phenes pa leste angla manush, ai pachas ande cho ilo ke O Del zhuvindisardia les mashkar le mule, antunchi sanas skepime.',\n ' 1 Ai thode le Petres ai le Iovanos mashkar lende, ai phushle len, \"Che putierasa vai ando anav kodolesko kerdian kadia?\"',\n ' 8 Ke O Del jinel ame vorta pala amaro pachamos, ame sam le pachasa le Kristoski, ai ame sam ando pacha le Devleske amaro Del O Jesus Kristo.',\n '  Murhe phral, te si iek manush kai perel ando bezex, ai te si iek manush kai si chacho, tu kai san le Devlesko, vazden les, ai den les cho lashimos, ai arakhen tume te na aven zumade.',\n ' 10 O Jesus phendia lenge, \"Ke trobul te chiden le, si ma desh galbi.\"',\n ' 1 Numa o Zhidovo si kodo kai si Zhidovo ande lesko ilo, ai o semno kai si lesko ilo si ande lesko duxo, na ande leski vorba.',\n ' 6. Mek o manush kai chi kerel buchi sar trobul te avel, shudia les avri ando tuniariko. Kotse si te roven ai te chiden dandendar.',\n ' 14 Andre phendžas, hoj o biblicko sprava ela pro savoro svetos.',\n ' 3. (Ai savorhe geľa pale andre penge khera.',\n ' 11 Won rhuginas ame te den ame o lashimos le Devlesko, ai te avas andek than le Kristoske te zhutisaras le zhutimos le swuntone narodoske kai si ande Judea.',\n ' 3. (a) O Del, o Ježiš the o Duh savorhenge.',\n ' 1 Numa chi gindin ke mai mishto te merel iek manush anda narodo, ai te na merel sa o them?\"',\n ' 1 Numa won chi haliarde, ke zhi adies, kana jinenas E Vorba le Devleski, kodia paramichi chi haliardili, ke kadia paramichi si garadi ando Kristo.',\n ' 3. Te zhanen tu ferdi le Devles, o chacho ai o Jesus Kristo kai tu tradian.',\n ' 1 Strazo o temnitsa angerdia les pesa, ai xalades leske dukhansa, ai sas boldo strazo, wo ai sa leske slugi.',\n ' 3 Pala kodia kai mangenas te chinen penge love, chinenpe iek kher kai busholas \"O Kher le Manushesko kai kerel le xarkune,\" ai kai sas te gropon penge vortacha kai Nas Zhiduvuria.',\n ' 6 Porme dikhlem le efta angeluria kai si angla Del, ai sas le efta tuturazi.',\n ' 1. Phenen tumare čhavenge pal o sex',\n ' 3. Oda, so pes ašarďa, sas le Jehovaske igen furt.',\n ' 6 Na dara, tume kai san xantsi, ke tumaro Dat del tumen o rhaio mishto.',\n ' 9 Modľin tut, kaj o Jehovas te chraňinel a te chraňinel prekal o čoripen, so kamen. (Izaiáš 55:9)',\n ' 9 So si te avel amenge? Te avela ke le manush keren kodia, vai ke O Kristo si te avel phendo, me raduim me kadia buchi, ai mai raduivava.',\n '  Te mai vazdava so shubisardem, antunchi sikavava ke chi pachav ma, ke chi kerav so mothav.',\n ' 5 Te keren tumaro zhutimos, phrala, kana chiden tume andek than, te si iek ande tumende kai del duma pa Del, aver del duma pa zakono, aver del duma pa profeturia, aver del duma pa so mangel o manush te keren, aver del duma pa so mangel o Del, ai aver den duma pa so mangel o manush te keren, sa',\n ' 8 Antunchi O Jesus sikadia le foruria kai sas kerdia le mai but mirakluria, ke chi keisaile.',\n ' 1. So pes modľinel le Ježišoske, kaj te el falošno?',\n ' 9:1, 6:1, 13:1, 17:1, 20:1, 25:1, 28:1, 31:1, 35:1, 40:1, 43:1, 46:1, 49:1, 52:1, 55:1, 58:1, 61:1, 64:1, 67:1, 70:1, ',\n ' 0, So kerdilia le Jesusos andai Nazareth? Phushle les, ai phende leske, \"So kerdilia le Jesusos andai Nazareth? Wo sas profeto, ai kerdia bare bucha ai shukar vorbi angla Del ai angla sa o narodo.',\n ' 1 Kana e vriama le jiveske avelas, wo tradia peske slugen te zhan te lel pesko chidinimos katar le manush kai bariaren leske phuvia.',\n ' 6 Me dav tu le chei le rhaioske, ai so godi phandav pe phuv avela phanglo ando rhaio, ai so godi tuke shinares pe phuv avela shindi ando rhaio.\"',\n ' 3. O Del kamel, hoj te aves leskero kamaratos.',\n ' 1) So tut šaj sikaves le Davidoskera zoralibnones?',\n ' 8 Zhanas ke o manush nashtil te avel jindo vorta angla Del ferdi ke kerel so mothol o zakono, ai na ke pachalpe ando Jesus Kristo. Numa pala kodia pachaieam ando Jesus Kristo, ai mangas te avas jinde vorta angla Del pala pachamos ando Jesus Kristo, ai na ke ame keras so mothol o zakono. Ke',\n '  Ai le Farizeanuria ai le Gramnoturia phushle les, \"Sostar che disipluria chi lenpe pala zakono le phurengo, numa xan le vas kai nai vuzhime?\"',\n ' 3. Phireha avrenge, kaj te el lačho',\n '  Wushtiva, ingerava murhe dades, ai phenava leske, \"Murho Dat, si mange bezex karing o rhaio ai vi tu.',\n ' 1 Antunchi phendia peske disiplonge, \"Bari buchi si te kerel, numa xantsi manush si te zhutil.',\n ' 3. (Kolosanom 4:3) Sam svedki khera, kaj te služinas le Devleske.',\n ' 1 O Del skepisardia ame, ai dia ame ek swunto akana, na ke keras vorta amende, numa ke manglia O Del te kerel kodia, ai ke dia ame o lashimos kai dia ame kana aviliamas le Jesus Kristosa.',\n ' 11 Antunchi sa le disipluria mekle les, ai nashle.',\n ' 1 Ke gata sim te avav shudino sar ek podarka po altari, ai zhanav ke murho vriama pe phuv avilo.',\n ' 1. So phenel e Biblija pal o Del?',\n ' 9 But the prekal oda, so služinelas le Jehovaske, sas o Izraelčana?',\n ' 1 E Vorba le Devleski mothol, \"O Del si o mai phendo sar sas e lumia, ai si te avel sikado kana getolape e vriama.\"',\n ' 4o o shtarto angelo phurdia leski tuturaza. O trito partia la khamosko, o trito partia le shunutosko, ai o trito partia le cherhaiengo sas dukhade. O trito partia sas shinde ando tuniariko, ai o trito partia la vediara ai o trito partia la cherhaiengo xasarde penge vediara.',\n ' 6 Le chererhaia kai si ando cheri aven tele, ai le putiera kai si ando cheri aven phuterde.',\n ' 10 Antunchi o baro ketana le tamplosko gelo le ketanensa, ai andine le ka baro ketana, numa chi lestar, ke daranas ke won marenas le banges katar o narodo.',\n ' 3. Prindžaren tumen avka, sar o David avľa avri le Jehovastar.',\n ' 13 Ai won geletar, ai dine duma e lashi viasta swako than. O Del kerdia buchi lensa, ai delas zor ka e Vorba kai mothonas, ai kadia kerelas le mirakluria kai sas lensa.',\n ' 1. De amen adies, kaj te el.',\n ' 30 Sar le disipluria dikhenas opre karing o rhaio sar O Jesus zhalas, dikhle dui manush ande lila.',\n ' 1 Ando kodo kher lasharde xabe, e Martha lasharelas, ai o Lazarus sas iek anda kodola kai skafidi sas leste.',\n ' 8 O amperato zhanel kadala dieli, anda kodia sai dav duma leske bi darako. Wo zhanglia ke nai les chi iek diela kai chi zhanel.',\n ' 1 Te na avela vari kon drago amare Devleske O Jesus Kristo, te avela shudino ando iado.',\n ' 8 O amperato nekezhisailo, numa ke phendia o shudimos, ai ke dikhelas kodola kai sas lesa kai skafidi, phendia te den les avri.',\n ' 1 Numa akana kai zhanen le Devles, mai mishto phenav, ke kana O Del zhanglia tume, sar tume mai bolden palpale ka kodola sicharimos kai sas tumenge sichardo mai anglal, ai kai si tume ginduria ke nai kanchi, ai kai mangen te len tume pala kadala sicharimos?',\n ' 1 O Kristo tradia ma te phenav e lashi viasta, na te dav duma gojaver, ke te kerdiuvela o trushul le Kristosko intaino.',\n ' 1 Ke savorhe kerde bezexa, ai nai le luvudimos le Devlesko.',\n ' 32. So pes mište šaj arakhen? Dikhen 32 kapitola andre kňižka Šunen le Devleskero veľmi učeňik.',\n ' 43 (Lukáš 23:43) O Del amen phendžas, hoj o manuša, so dživena pal o ňebos, ena vzburde aňi verno.',\n ' 1 Petri meklia peske tsalia, ai nashlo ando pai.',\n '  Me ramosardem tumenge, na ke chi zhanen o chachimos, numa ke zhanen o chachimos, ai zhanen ke o xoxaimos chi avel anda chachimos.',\n ' 12 So šaj paťas, te vareko mulo?',\n ' 6 Te si vari kon anda tumende kai gindilpe mishto, ai te si les goji sar le manush kai chi zhanen O Del, te avela sar iek dzilo, ai antunchi avela gojaver.',\n ' 3 Ai kana dikhlia le Jesusos sar phirelas, woi phendia, \"Eta o Bakriorho le Devlesko!\"',\n ' 1 Te si vari so kai kerel te merav, nashti avel kodia vari so kai kerel o merimos. Numa o bezex kerel te merav, numa vari so kai si lasho kerel o merimos, saxke te dichol kai kerel o bezex, ai te sikadiol ke kodo manush kerdia bezex.',\n ' 17. Dikhen „Note explicative“ (pokojis 17 the 18) prekal tumende.',\n ' 1 Te si vari kon ande tumaro narodo ande lolo tsalia ai ande shukar rasa, ai avela iek chorho kai nai les kanch.',\n ' 16 Wonde te ingeren o trushul le Jesusosko po manush kai sas andai niva kai busholas Simon andai Cyrene, wo sas o dat le Alexanderosko ai le Rufusosko.',\n '  Ke mai mishto te avela te chinuin te keren o mishtimos, de sar te avena doshale ke keren o nasulimos.',\n ' 1 Ande khangeri ande Antioch sas profeturia ai manush kai sicharenas o zakono le Devlesko, o Barnabas, o Simon kai akharenas les \"Niger\", o Lucius andai Cyrene, o Manaen kai beshlo opre le Herodosko baro, ai o Saul.',\n ' 2. O Del kerdia kadia te sikavel ke chi mangen te keren so mothol o zakono, ai te na keren doshale.',\n ' Șaj, nai lačho.',\n ' 2. O pervo shut sas o pervo than kai le manush dine podarki ka Del, ai o duito shut sas o than kai busholas o Swunto than.',\n '  Traden but bax, zor ai sastimos sa le bare kai si ande tumare khangeri, ai sa le Devleske manushenge. Le manush kai si ande Italia traden tumenge but bax, zor ai sastimos.',\n ' 1 Murho kuchi vortako, chi kerdian o nasulimos, numa o mishtimos. Kodo kai kerel o mishtimos, kodo si katar O Del. Kodo kai kerel o nasulimos, chi dikhlia O Del.',\n '  Ai e zhuvli nashli ando pusta, ka than kai O Del getosardia la, kotse te avel la xantsi shela ai shtarvardesh diesa.',\n ' 1 Kana simas ando Jerusalem, le bare rasha ai le phure kai poronchinas le Zhidovonge rovenas pe mande, ai mangenas katar o baro rashai te del ma kris.',\n ' 8 O Jesus phendia lake, \"Zha ai akhar che rhom, ai aidi katse.\"',\n ' 3. \"Tume manushale, so kerdia o Del te kerel vari so, kerdia leske vi so si ando manush?',\n ' 1 O Del dia lesko narodo o swunto tsera, ai ando swunto than busholas \"O Swunto\" ai kotse sas e lampo, ai e skafidi ai le manrhe te thon le angla Del.',\n ' 1) Te našes te chal, te les o manrho avri anda cho mui.',\n ' 9 So te kerav? Rhugiva ma le duxosa, numa vi ma gojasa; rhugiva ma le duxosa, numa vi ma gojasa; kana kerdav murho duxosa, numa kana kerdav murho gojasa.',\n ' 16 Ando Iconium o Pavlo ai o Barnabas gele ando synagogu, ai kotse denas duma, ai but narodo andal Zhiduvuria ai Grekuria pachaiepe.',\n ' 1, Phrala le, ashundem pa tumende katar le manush kai sas le kodolesa kai bushol Cleopatra, ke si mashkar tumende xibaimos.',\n ' 1 O zakono le Mosesosko nashti kerelas kadia. O Del phendia ke o bezex si te avel ande lumia. O bezex si sar iek nasulimos kai si ando stato.',\n ' 16 Kon godi kai ashunel kadala vorbi, ai kerel le, avela sar iek manush kai si les e goji ai kai kerel so godi si leske ando kher.',\n ' 3. Anda kodia arakhen tume te phiren, na sar le prosti manush, numa sar le gojaver manush.',\n ' 3. Sar sikadias, hoj peske kamel te el radišagos le Jehovaskero jilo?',\n '  Kai san?',\n ' 1. O pervo manush si la phuviako, phuviango; 2. O duito manush si le cherengo.',\n ' 2 O Del dia amenge but podarki, ale amenge mai but trobul le.',\n ' 3. O Festus phendia, hoj o Pavlo garardo lo ando Caesarea, ai ke wo mangela te zhal kotse sigo.',\n ' 1 O Jesus gelo lesa, ai but narodo liape pala leste.',\n ' 8 Numa le bare rasha ai le Gramnoturia xoliariko sas, kana dikhle le mirakluria kai kerdia, ai le glaten tsipinas ando tampla, \"Hosana! Shav le Davidosko!\"',\n ' 3. So kerela o gazda la rezako kana mudardia le manushen?',\n ' 5 Ke nashtil te skepil o rat le bakrengo ai le mashe te skepil le bezexa.',\n ' 3. O Del andal o ňebos chraňinďa,',\n ' 4 Numa xantsi vriama pala kodia bari barval avili pe izula, kai busholas Euraclideon.',\n ' 2 Ke dikhav ke tu san pherdo zhaluzi le nasulimaski, ai phanglo ando them le bezexesko.',\n ' 1 O baro beng ande marimos kerdia kadia diela adies, ai akana ame sam ande marimos ke ame sam doshale ke kerasas o nasulimos.',\n ' 6 chas ai 3/4 chas, e tuniariko avili pe sa e lumia zhi ka 9 chas.',\n ' 1 Te sanas shindino andai kotoria le maslinengi kai sas bi lasho, sar o kotor le maslinengo kai sas lasho shindia sas te avel lasho, sode mai but kodola kai si andai kotoria le maslinengi kai sas bi lasho avena lasho ande kotoria le maslinengi lasho?',\n ' 3. Den le te zhan andel gava ai le foruria te chinen pen, ke nai le so te xan.',\n ' 5 Strazo aver manush dikhlia les ai phendia, \"Vi tu san iek anda lende.\" Numa o Petri phendia leske, \"Manusha, chi sim anda lende.\"',\n ' 3. Te na zhuvindin le mule, sostar le manush te bolinpe pala le mule?',\n ' 1 Nai mai but vriama, o dies avel, mek ame te shudas amaro traio le dieli kai sas ande tuniariko, ai te las ame le armia le vediarnenge.',\n ' 1 Numa O Jesus phendia la zhuvliako, \"Che pachamos sastiardia tu, zha pachasa.\"',\n ' ʒʒʒʒʒʾa?',\n ' 2 O Felix ramo le Kristoske iek lil, so motholas:',\n ' 6 Na aven drago le manushenge ai le dielenge kai si ando lumia. Te si vari kon drago le dielenge ai le manushenge, O Dat chi si leske dragostia.',\n ' 1 Kana avela O Zhutitori, O Swunto Duxo le chachimasko, wo si te ingerel tume ande swako chachimos. Wo chi dela duma anda peste, numa dela duma so godi avela ashundo, ai sikavela tumenge le dieli kai si te aven.',\n ' 8 Ai pachav ma ando Del ke avava vi me mai sigo.',\n ' 1 Kana O Jesus areslo, ashundia ke o Lazar sas ande greposhevo shtar dies.',\n ' 1) Te na mišľinena avrenge, mušinen te šunel avrenge.',\n ' 3)Kana phučles,',\n ' 2 O Ježišoskere phrala, so pes pisinenas andre Biblija, sas aver dui čhavori.',\n ' 1 O Barabbas sas thodino ande temnitsa pala bunturia kai sas ando foro, ai pala mudarimos kai sas kerdilo.',\n ' 1. O skepitori zhuvindisailo, ai anklisto andai greposhevo, ai gelo ando Swunto foro, ai sikadilo butenenge.',\n ' 16 Me mothav mai iek data swakoneske kai si les semno, ke trobul te kerel sa o zakono.',\n ' 1 Me simas defial raduime kana ashundem ke murhe shaven pachanpe ando Del.',\n ' 1 Zhanen: Kodo kai thol xantsi sumnakai, avela les xantsi sumnakai kana avela e vriama te chidelpe; numa kodo kai thol but sumnakai, avela les but sumnakai kana avela e vriama te chidelpe.',\n ' 1. Petra 3:18-20',\n ' 1) E daj (mari) mušinel te sikhľol a te vakerel peskere čhaven',\n ' 1 O Del vazdia andai vitsa le Davidoski iek skepitori, sar shinadia sas, kai sas o Israel.',\n ' 3. Ande kodia vriama arakhadilo o Moses, kai sas shukar angla Del.',\n ' 3. Phenen tumare čhavenge, hoj o Del hino čisto manuš, so pes mišľinel.',\n ' 3. O Del trobul te avel lasho, te avel e pacha, ai e dragostia te avel mai but.',\n '  Ai te si ma iek diela kai chi haliarav, chi sim chi ando zhanglimos, ai sikadem tumenge, ai sikadem tumenge ande soste godi, ai ande soste godi.',\n ' 9. O zboros, so hino zvestimen, džanen pal oda, so kerel o kresťanska zboroskro andre savoro svetos.',\n ' 1 Me simas karfome le Kristosa, ai traiiv, numa me chi mai traiiv, numa O Kristo traiil ande mande. Ai akana kai traiiv ando stato, kodo traiiv si ande pachamos kai pachavas ando Shav le Devlesko, kai sas leske drago mange, ai wo diape pala mande.',\n ' 4 Numa me phenav tumenge, kon godi mekel peska rhomnia te na avela kurvisa, mekela te kerel kurvia; ai kon godi ansurilape rhomni kai mekel lake, kerel kurvia.',\n ' 3. O beng',\n ' 3. Kamelas te kerel oda, so leskero dad phenďa, hoj peske čhavorela a o Jehovas kamel.',\n ' 1 Sar das o mishtimos ka Del pala tumende?',\n ' 1 O Del mangel ame te traiisaras pachivales, ai te avel ame dragostia le phralensa, ai te avel ame e dragostia le manushensa.',\n ' 1. Porme gele katsar kai foro sas Perga, ai kotsar gele andai Antioch, kai foro sas andai Phrygia.',\n ' 3 Te mangela tu iek klorhaki, de les iek kotor?',\n ' 1 O Simon ai le kolaver kai sas les geletar te arakhen les.',\n '  Ai ando rhaio sas ek marimos. O Michael ai leske angeluria marde le bale le drakonge, ai vi le bale ai lenge angeluria marde le Michael ai leske angeluria.',\n ' 9 Kana xalia, O Jesus phendia le Simonoske Petresko, \"Simon, shav le Jonasosko, drago tuke mai but sar kadala?\" O Petri phendia, \"E, Gazda, zhanes ke drago tuke mai but mandar.\" O Jesus phendia leske, \"Le sama katar murhe drago.\"',\n ' 3. 1 a) So sî tuke te zhanes mai but pal o Del? — Tradu urmatorul text din limba Română în limba Romani (vorbită de Romii din România):',\n ' 17a e riat, sar zhanas pe maria karing o them kai bushol Adria, mashkar le desh u dui e riat o narodo kai sas le parnasa, phende ke pashaiolas o them.',\n ' 1 Ke tu san le Devleske kai ashundian ai kai garadian so phenel murho lashimos, ai me garavava tut kana avela e vriama kai avela zumadi le lumiake, ai kai zumavela sa le manushen.',\n ' 1 Porme o Jesus lia ek kuchi, ai naisisardia ka Del, ai phendia, \"Len kadia kuchi, ai hulaven te xan mashkar tumende.',\n '  Ai kotse arakhlia ieke Zhidovo kai busholas Aquila, kai sas andai Pontus, ai kai avilo ande Italia, ai leski rhomni busholas Priscilla. O Claudius Caesar phendia le Zhidovonge te zhantar andai Rome, ai kodo manush avilo te dikhel le Aquilasa.',\n ' 14 Raduime kodola kai si chinuime pala ke keren so si vorta, ke lenge si e amperetsia le rhaioski!',\n ' 4) „Furt dokončilem oda, so tu džanahas ma te kerav.“ (Ján 17:4)',\n ' 1 Numa swako data kai iek manush avel palpale ka Del, lesko bezex avela iertime.',\n '  Striglino zurales, \"Pachiv, Devla! Ai zhutiv murho nai pachamos!\"',\n ' 6. Raduisavas kana ashundem ke uni anda tumare shaven avena manush kai pachan o chachimos ai keren so mothol o Dat.',\n ' 1 Ande Jerusalem kerenas o Dies O Baro le Zhidovongo, kodo sas o prazniko le tamplaki, kodo sas o shon.',\n ' 1 Ke khonik nashtil te mothol ke nai kadia. Trobul te aven zurale, ai te na keren kanchi bi vuzho.',\n ' 3. O Jesus phendia lenge, \"So anklel anda manush, kodia rimol le manushes.',\n '  Ai shoxar chi mai dikhena, numa trobul te dikhel les pala but bersh te avel tume andek than.',\n ' 3. Soske sikavas ada ďives, hoj kamas le Jehovas?',\n '  Ai kana areslo khere akharel peske vortakon ai le manushen kai beshen pasha leste, ai phenel lenge, \"Raduin tume mansa, ke arakhlem murhi bakri kai sas xasardili.\"',\n ' 3. Sar ela e lumia, sar leskero vladcas avela odmukhlo?',\n ' 8 Woi phralas, ai tsipilas ke sas la phari, ai chinuisardia but te arakhadili la glata.',\n ' 3/4 partia le zhigani kai sas ande maria ai kai sas le zhigania sas mudarde; ai 3/4 partia le paraxoduria sas shudine ande maria.',\n '  Ai wo phendia mange, \"O mishtimos kai me si te dav tu, kadia si te avel. Ke murhi putiera si kai kerdiol kadia mishto ke sim kovlo. No mai raduima mai zurales ke sim kovlo, saxke e putiera le Kristoski te avel ande mande.',\n ' 3 Tume mai anglal traiinas ando bezex, sar le kolaver manush.',\n ' 3. Ai won mangenas katar o Pilate te tradel les te mudarel les, ai won mangenas les te zhal ando Jerusalem.',\n ' 1 O Jesus phendia lenge, \"Ke tumenge sas dino te zhanen le chache anda e amperetsia le rhaioski, numa chi sas dino le kolavrenge.',\n ' 3) O lashi khash nashti del fruta o chorhi, ai o chorho khash nashti del fruta o lasho.',\n ' 1 Sar ashundiam ke swako anda amende del duma ande amaro shib, ande kodia kai arakhliam?',\n ' 1 Tu, besh andel dieli kai sichardian ai kai zhanes ke chache le, ke zhanes katar kodo kai sichardian le tute.',\n ' ʒanʒa te dav duma.',\n ' 2 Kodo dies aver chunuria avile andai foro kai bushol Tiberias, kai sas pasha o than kai xanas, ai O Del pherdiardia lestar.',\n ' 13 O Jehovas the leskero čhavo, o Ježiš, chudňa te kamen upre le phuvendar a le ňebendar pro milijardi berša.',\n ' 1 Sar zhanas ando than te rhugisavas, iek zhuvli avili angla amende. Woi sas ek zhuvli kai sas la putiera te divinil, ai kerel barvalimos le manushensa kai sas la.',\n ' 3. O Del amen diňa o drom kaj te avas vorta leste, aňi amen diňa o drom kaj amari bini te avas iertime andal amare greha.',\n ' 3:1 Kana phuterdilo o dies O Baro le Zhidovongo, antunchi sas o dies Savato.',\n ' 1. Ko hino',\n ' 1 Naisisarav tumenge O Dat, kai dia tume o mishtimos le swuntone manushenge, kai si ande vediara.',\n ' 0(0) O Jesus chi phendia leske khanchi.',\n ' 6 Le disipluria chudisaile kana ashunde so phendia lenge. O Jesus phendia lenge, \"Murhe shave, sar trobul le manush kai si barvale te zhan ando rhaio le Devlesko.',\n ' 6 O Jesus phendia lenge, \"Na phenen kanikaske, numa zha ai sikav le rasha, ai an lestar so o Moses dias te vuzharel tu.\"',\n ' 3. O Jehovas hino sikavel andal e Biblija.',\n ' 3 chasuria.',\n ' 1 So pes te kerel, kaj pes te el jekh, jekh, jekh, jekh?',\n ' 1 Me gindiv ke kadia si o zakono le Devlesko ande mande. Kana mangav te kerav o mishtimos, o nasulimos beshel pasha mande.',\n ' 3 O Jesus sas iek manush sar le manush, ai sas les iek stato sar le manush, ai sas les iek stato kai sas les le dieli le bezexale sar le manush.',\n ' 1) So pes našťi vladňinel?',\n '  Ai won phenena leske, \"Gazda, kana dikhliam tu bokhano vai trushalo, vai streino, vai nango, vai naswalo, vai ande temnitsa, ai chi kerdiam tuke so trobulas tu?\"',\n ' 1 Kana le disipluria avile leste, wo phendia lenge, \"Zhanen sar keravas buchi tumensa de anda gor, de sar thodem o pervo pugnia pe phuv andai Asia.',\n ' 2 Kado divano si ek shinaimos, \"Po kadia vriama me avava palpale, ai e Sarah avela la glata.\"',\n ' 3. So šaj sikhľos le Rachaboske?',\n ' 1 O Iovano sas e vediara, kai sas strefial ai kai strefial la lumiake, ai tume manglian te veselin tume pala vediara kana sas strefial.',\n ' 10 shinga ai o zhungalo zhigeni kai dikhlian, ai o zhungalo zhigeni kai si les le shinga, si te xoliavon la ai te xan la, ai te phabaren la, ai te xan la leski mas.',\n ' 17 E zhungalia kai dikhlian mai anglal sar e lumia sas, ai inker chi mai si, woi si te wushtel anda gropo ai te zhal kai perzitori. Kana le manush la phuviake kai chi sas ramome ande klishka le traioski de sar sas e lumia, won chudinape kana dikhena ke kodo zhungalo zhig',\n ' 4 Kodo kai dikhlia kodia diela phendia lenge so kerdiliape, ai sar sastilo kodo kai sas beng ande leste.',\n ' 3. So phenel o Del pal o rat the pal o dživipen?',\n ' 8 O Jesus phendia lenge, \"Zhuvlia andai Jerusalem, na mothon pa mande, numa mothon pe tumende ai pe tumare glaten.',\n ' 1 Antunchi O Jesus phendia le narodoske te beshen tele pe phuv. Lia le efta manrhe, ai naisisardia le Devles, ai phaglia le, ai dia le kal peske disipluria, ai won dine le ka narodo.',\n ' 3 No akana, murhe phral, zhanav ke chi zhanenas, kana kerdian kadia, sar tumare bare le.',\n '  Ai O Jesus phendia lenge, \"Tume so mothon ke sim?\"',\n ' 9 O Del amen sikavel,',\n ' 6) Le disipluria denas pe duma, ai phende, \"Sostar phenel amenge kai chi liam manrho?\"',\n ' 3. Šunen le Devleskere lav a keren oda, so leske rado kerel',\n ' 1 Te sanas bolde ando Kristo, tume avilian lesa vuriardo.',\n ' 1 Zhanas ke kodo kai si kerdilo katar O Del chi mai kerel bezexa; numa O Del kerdia kodo manush te na mai kerel bezexa, ai kodo manush kai si bi vuzho le Devlesko chi avel leste.',\n ' 3. So šaj phenas, te avkašaha avri andre tiro dživipen?',\n ' 3. O Swunto Duxo sikavel les sar ek rhonjito, ai lesko tsalia sas sar o parno chishai.',\n ' 3 Line pe leste, mudarde les, ai shude lesko stato avri anda rez.',\n ' 1. O časos, so pes ačhiľa, pheňal:',\n ' 2 Antunchi avile leste ai phende leske, \"Raduime amperato le Zhidovongo!\" Ai dine les le palmes.',\n ' 1 O Simon Petri, kai sas les ek sabia, lia la ai shindias ek khan anda kuko kai kerdia buchi le bare rashasko.',\n ' 8 Me simas tele pe phuv, ai ashundem ek glaso ande shib, kai motholas mange ande shib, \"Saul, Saul, Sostar chinuis ma? Ke trutno tuke te des palpale o kolaver manush te zhal palpale katar o kolaver manush?\"',\n ' 3 O Del sľubinďa le Janoske te del leske jekh semno, kaj les te prindžarel, hoj leske paš o Mesijašis.',\n ' 3 Wo lia peske rhomnia kai sas shinade, ai andia kodia kai nai shinade, ai thodia la kal punrhe le apostlonge.',\n ' 3. So hin andre kňižňica andre kher, kaj pes te arakhel?',\n ' 6 Le Farizeanuria ai le Zhiduvuria chi xanas bi te xalaven penge vas sar le phure kerenas.',\n ' 8 O Jesus phendia, \"Iek manush zhalas de anda Jerusalem ando Jericho. Kodo manush perelas mashkar le chorhe, ai line leske tsalia, ai dine les te xal, ai marenas les, ai mekle les te merel.',\n ' 1 Numa kodo kai chi zhanelas, ai kai kerdia dieli kai trobulas te avel doshade, avela les xantsi palma. Kodo kai sas dino but, trobul te avel dino mai but; ai kodo kai sas dino but, trobul te avel dino mai but.',\n '  Ai O Jesus phendia lenge, \"Te san tu O Kristo, phen amenge.\" Numa te phenava tumenge, chi pachana.',\n '  Numa tu kana desa zhutimos kal chorhe, na zhan tu e chachi so kerel e vas.',\n ' 8 Ai o Herod chi arakhlia pe kado manush chi iek baio, ke tradia les palpale, ai kodo manush chi kerdia kanchi kai te mudaren les.',\n '  Ai phendia lenge, \"Ramome, \\'Mia kher avela akhardo rhugimasko.\\' Numa tume kerdian anda late o than kai le chorke chidenpe.\"',\n ' 1 Numa O Del kerdia so mangav, zhuvindisardem zhi ka kado dies. Ai phendem so phendia o Moses ai le profeturia, ai chi duruisardem katar kanchi.',\n ' 6 Porme dikhlem aver angelo hulelas tele andai rhaio, kai sas les but putiera.',\n ' 3 So te mothas, te O Del, kai mangelas te sikavel pesko xoli ai te sikavel peski putiera, rhevdisardia but vriama le manushensa kai sas kerde anda pesko xoli, kai sas thodine pe phuv te aven xoli le manushenge.',\n ' 3. O Kristo sas O Shav le Devlesko, numa wo sichardia te pachalpe pala so phendia leske O Del.',\n ' 1 Tume zhutin ame ande tumare rhugimata, ai tume keren amenge mishtimos kana rhugin tume. Kodia si te avel mishtimos kai avel le kolavrenge, ai te avel le kolavrenge naisimos ka Del amenge.',\n ' 8 Wo dia duma zurales ai phendia, \"Dakaiin tume katar O Del ai luvudin les! Ke e vriama avili kai O Del dela kris. Luvudin le Devles kai kerdia o cheri ai e phuv, ai e maria ai le zhiduria le paiesko.\"',\n ' 23 Le Farizeanuria kai drago sas lenge te avel le love lestar, ashunenas sa kadala dieli, numa marenas mui lestar.',\n ' 1. O Del O Dat ai amaro Devles O Jesus Kristo te del tume o mishtimos ai e pacha.',\n ' 1 Porme o Pavlo lia ek kuchi, ai naisisardia le Devles, ai dia la le manushenge, ai sa penas andek than.',\n \" 16 Te vari kon dela duma ke nai vorta so mothol o zakono le Devlesko, vai te sicharel avrenge te keren sakadia, akharena les 'O mai tsinorho ando rhaio.' Numa kodo kai garavel o zakono ai sicharel avrenge te garaven les, akharena les 'O baro ando rhaio.'\",\n ' Ke o Iovano avilo, chi xal, chi peli, ai won phenen, si les ek beng ando leste.',\n ' 1. E sumuntsa peli pe bax, ai kana bariolas, shuchili, ke nas dosta pai.',\n ' 1 Trobul te avel tume sagda rhavda, ai te aven zurale ilesa, ke pashol O Kristo.',\n ' 9 Ke nashtinas te len sama katar o zakono le Devlesko, ke o zakono phendia, \"Kei iek zhigania kai azbalape pe plaiin, trobul te mudaren les baxensa vai te shinen les ek sataria.\"',\n ' 1 O Dat drago le Shaveske, ai dia swako fielo ando lesko vas.',\n '  O barval phurdel katar godi mangel, ai ashunes lesko bunto, numa chi zhanes katar avel, vai kai zhal. Kadia si swako manush kai si kerdilo anda Swunto Duxo.',\n '  Phen lenge te aven respektime, ai te na mothon nasulimos, ai te na pen, ai te sicharen te traiin vorta ai te keren so si mishto.',\n ' 8 O Jesus phendia, \"Murhi dei ai murhe phral ashunen e vorba le Devleski ai keren so mothol lenge.\"',\n ' 3. Tu, murho shav, ande dragostia kai si ando Jesus Kristo, bariol zurales.',\n ' 1, 2. Kana le disipluria geletar, nakhavenas pe kaver than, ai mothonas e lashi viasta.',\n ' 1) So tumenge phenen o daj the o rom?',\n ' 14 Ale pre phuv hin avka, sar pes pal ada dikhľam.',\n ' 3 Ande murho vizion, dikhlem le gras ai le manush kai lenas le. Won sas pe lenge shuka sar iag, ai sas pe lenge shuka sar iag ai sas pe lenge shuka sar e putiera le zhungalestaraki. Le shere le grasosa sas sar le shere le lionenge, ai anda lenge mui avile sas iag, thu ai zhungalesa',\n ' 8 E Vorba le Devleski trobul te avel phendi sa data la lumiake, saxke te sikavel ke o chachimos le Devlesko si ande sa le thema.',\n ' 16 Ai kerelas buchi la pervo zhungalo zhigeni kai sas la putiera. Kerdia sa le manushen te luvudin o pervo zhungalo zhigeni, kai sas les e putiera te mudarel ai kai sas lesko semno sastilo.',\n ' 1 O shav la phralesko le Pavlosko ashundia pa kodia marimos, gelo ando foro, ai phendia leske.',\n ' 1 Ando Ephesus avilo iek Zhidovo manush kai busholas Apollos, wo sas andai Alexandria, ai sas les e podarka te del duma pa Del, ai zhanglia sas le zakonuria.',\n ' 1 Numa O Jesus phendia lenge ek paramichi,',\n ' 3.3. Cai sî te kerav buchi, te na avela vorta, mišto sî te dav tut.',\n ' 1 Kana o Josef wushtilo anda sovel, kerdia so phendiasas leske o angelo le Devlesko; lia leska rhomnia.',\n ' 8 O Agrippa phendia ka Festus, \"Mangav te ashunav kodo manush.\" O Festus phendia leske, \"Mangav te ashunav les, terhara.\"',\n ' 1 Ke E Vorba le Devleski mothol, \"Thodem tu te aves o dat bute themenge.\" O Del si amaro dat, wo pachaiape ando Del, wo zhuvindisardia le mulen, ai akharel le dieli kai nai, sar te avilino le.',\n ' 3. Kana kerdilia kadia, thode le sa le te beshen tele.',\n ' 3. Ame mothas sa le 4 lila, sa o drom, ai sa data kai dashtisaras, ke kadia diela si amenge drago.',\n ' 9 O Satan hino „o bov le Devleskero [sukaros]“, so „vladňinel [sukares]“ a „savoro [sukares] [sako] [sukares] [sako] [sukares] [sako] [sukares] [sako] [sukares] [sako] [sukares] [sako] [sukares] [sako',\n ' 1. Ko sas o mai baro duxo,',\n ' 8 O Jesus phendia lenge, \"Chi jindian le Davidosa, kana trobulas les vari so, ai kana sas bokhailo ai kodola kai sas lesa?',\n ' 8 O Jesus phendia lenge, \"Tume kerdian vorta so phendia tumenge O Del, te keren so mangel tumendar.',\n ' 6 Ai le disipluria denas pe duma mashkar pende, \"Ame nai ame manrho.\"',\n ' 3 Te si tu angla mande, sa si tu.',\n ' ʒan tume le šaoră koa khăr le sîkaimahko?',\n ' 1 O Pavlo ai o Silas phende lenge, \"Pachas ando Jesus Kristo, ai tu ai che familia avena skepime.\"',\n ' 3. (a) O Del amen chraňinel,',\n ' 1 Pate iek andal amare bare vai andal Farizeanuria pachanaspe ande leste?',\n ' 3o sî tuke sîkaimos culoarea?',\n ' 3 O Josef gelo anda Galilee ande foro kai bushol Nazareth, te zhal ando Judea ando foro kai bushol Bethlehem, ke wo sas andai vitsa le Davidoski.',\n ' 6 Pala rhavda kai si tume, skepin tume katar tumare bezexa.',\n ' 8] Me thodem ma kal punrhe le Kristoske, ai phendia mange, \"Arakh tu! Ke chi trobul te keres kadia. Me sim ek sluga kai kerav buchi tusa ai che phralensa, ai ame sam le phral kai inkeren o chachimos pa Jesus. Tu rhugis tu ka Del.\" (O chachimos pa Jesus si o Swunto Duxo le profetongo',\n ' 8 O Jesus haliardia, ai phendia lenge, \"Sostar tume gindin ke nai tume manrho? Chi haliaren, ai chi haliaren, ai tumaro ilo pherdo lo.',\n ' 16 E Maria ashundia ai wushtili strazo ai gelo leste.',\n ' 10 Ande kodia vriama O Jesus phendia le narodoske, \"Tume avilian sar le chor, le sabiensa ai le khashtensa te astaren ma. Savorhende beshlem mashkar tumende, ai sichardemas o narodo ande tampla, ai chi thodian vas pe mande.',\n ' 9. Oda hin, so peske dromos te džal',\n ' 6 zhene nas mulo peske sas, ai vi e zhuvli.',\n ' 8 Numa won chi mai zhan ande punrhende, ke lenge dzilimos avela sikado savorhenge, sar sas sikado le dui manushenge.',\n ' 1 Kana o narodo gelotar, but Zhiduvuria ai uni manush kai bushonas Prophets kai sas andai Jerusalem linepe pala Pavlo ai Barnabas, ke won divininas lenge ai phenenas lenge te beshen ando lashimos le Devlesko.',\n ' 8 Antunchi O Jesus gelo karing peske disipluria, ai phendia lenge, \"Raduime kodola kai dikhen so dikhen tume!',\n ' 1 O manush phendia iekeske andal disipluria, \"Murho vortako, chi kerdem tuke chi iek baio, chi thodem tu le lionesa te chaches?\"',\n ' 3 Te dikhes ma sar vortako, primisar les sar te avilemas.',\n ' 8 O Jesus phendia lenge, \"Murhi amperetsia nai andai lumia.\" \"Te avilino murhi amperetsia andai lumia, murhe slugi marde te na avav andel vas le Zhidovonge; numa akana murhi amperetsia nai andai lumia.\"',\n '  Te sai haliaren so si o narimos, ai te na aven phangle zhi kai avel O Kristo.',\n ' 3. Premišľin pal soste phenes a pal savo modloske des duma',\n ' 7 Numa te na iertin le manushenge peske bezexa, chi tumaro Dat chi iertila tumare bezexa.',\n ' 1. So pes na kamel o Jehovas, kaj te keres ikoni, abo aver veci?',\n ' 3. (a) So kerde o Elijaš andro jekh zboros?',\n ' 9 Phiren pala mande, ke me phirdem pala leste, sar O Kristo phirdia pala leste.',\n ' 1 Te sas kadia luvudime o ramomos kai mudarel le manushen, ai kai sas ramome andel bax, sar te dikhen le Zhiduvuria pe Moses, ai te len sama katar lesko mui, ai katar lesko mui strefialas sar iek strefial diela.',\n ' 3 Ai won phushen lesa, \"Simon, kai akharen les Petri, beshel katse?\"',\n ' 1 Kana getosardia kodia, gelotar ai akhardia peska rhomnia, e Maria, ai phendia lake, \"O Gazda avilo ai akharel tu.\"',\n ' 1 Na azhukerel te avel les vari so katar O Del.',\n ' 3. O Ježiš sas oda, so sas dosta dureder sar o Del kamelas.',\n ' 1 Chachimasa, chachimasa, phenav tumenge, te lelpe vari kon murho mui ande sa data, chi dikhela e martia.',\n ' 1 Ke e vriama avela kai le manush nashtina te ashunen e sicharimos kai si chacho, numa lenape pala penge ginduria ai keren so mangel lenge, ai dena lenge slugi te keren so mangel lenge.',\n ' 1 O Abraham sas o dat le Isaakosko; o Isaak sas o dat le Iakovosko;',\n '  But Zhiduvuria avile ka Maria, ai kana dikhle so kerdia O Jesus, pachaiepe ando leste.',\n ' 1 Tume chi keren so mothol o zakono le Devlesko, numa tume keren so si zakono le manushengo, sar te xalaven le xurli ai le kuchi, ai keren but aver dieli kai si zakonuria.\"',\n ' 18 Dik tu kal lashimos ai kal vriama kai del O Del. Wo del e vriama kai chinuil le manushen kai keren bezex, numa del lashimos ka kodola kai pachanpe ando Del. Wo del lashimos tuke te na mai terdiol ando lashimos. Te terdiol, antunchi O Del si te shinel tu.',\n ' 1, 2. Murhe phral, seren tume pa butivar kai kerdiam buchi ai kai kerdiam buchi amare ilesa, saxke te na avela chi iek anda tumende kai trobul te zhutil ame.',\n '  But anda lende marenas mui lestar te na mai del duma, numa wo mai zurales dias mui, \"Tu san O Shav le Davidosko, av mila anda mande.\"',\n '  Ai tume, le dada, na xoliavon pe tumare glate, numa aven lenge dada, ai sicharen le, sar O Del mangel.',\n '  Akhardia swakones kai kamelas leske gazdas, ai phendia le pervostar, \"Sode kames che gazdas?\"',\n ' 3 Anda kodia, ke O Kristo chinuisardia ando stato, tume trobul te aven lesa sar wo sas les.',\n ' 1 Numa so si mai baro, kodo kai beshel ka skafidi, vai kodo kai zhutil ka skafidi? Nai kodo kai beshel ka skafidi? Chi sim kodo kai beshel ka skafidi, numa sim kai zhutil.',\n ' 1 Kodo kai del duma pel shiba chi del duma le manushensa, numa le Devlesa; ke khonik chi haliarel les, ai leske duxosa del duma le chordani.',\n ' 1 Ai shudiape mui pe phuv kal punrhe le Jesusoske, ai naisilas les, ai wo sas ek Samaritano.',\n ' 3. Vai le nasulenge, vai le chorhe.',\n ' 6. Te si vari kon kai mangel so si tute, de les so manges; ai na durios kodoles kai manges te pochines les.',\n ' 1 Te zhanen kadala dieli, avena drago tumenge te keren le.',\n ' 2 Te o merela avka avka avri, so pes ačhiľa, o čhavoro peske dživel pal o meriben sikavel.',\n ' 8 Ai akana chi mai sim dosta lasho te akharav tuke shav. Kerdem ma iek anda che slugi kai si drago tuke.',\n ' ʒuʒuʒuʒu',\n ' 3 O Del phendia lenge, \"O Savato sas kerdo pala manush, ai na pala Savato.',\n '  Ai phendia ka Jesus, \"Devla, anes mande te dikhes ma kana aves ando chiro amperetsia.\"',\n ' 1 E rhomni nai la putiera pe pesko stato, numa o rhom si. Sakadia, o rhom nai les putiera pe pesko stato, numa e rhomni si.',\n ' 9 Paľis, sar le ketani chudinas le Ježiš pal o križ, chudle leskeri rúňi a rozdeľinde le sako odborňe...',\n ' 3. O Ježiš kamel, kaj pes te dodžanľam, hoj pes vzburinďa peskero dživipen sar oda, so hin verno cena, kaj amen te zachraňinel.',\n ' 1 O Kristo sas karfome pala pesko kovlimos, numa traiil pala e putiera le Devleski. Sakadia sam kovle le Kristosa, numa pala e putiera le Devleski avasa pherde lesa.',\n ' 6) So pes dodžanaha andre 6. kapitola the andre 7. kapitola?',\n ' 1 O angelo le Devlesko sikadilo le Zechariahoske, ai beshlo tele pasha altari te phabarel e lampo.',\n ' 1 Kana nakhlo o dies O Savatone, e Maria Magdalena, e Maria e dei le Iakovoski, ai e Salome chinde sastria te zhan te thon po stato le Jesusosko.',\n ' 1. So hineha le Devleske pal amare ďivesa?',\n '  Uni Farizeanuria kai sas pasha Jesus, kana ashunde le vorbi, phende leske, \"Vi ame avas korhe!\"',\n ' 6 Kana aresena khere, den duma nasul pa kodola kai si avrial.',\n ' Țeśte ma mište hai šukar.',\n ' Șkola sas dikhlia lazhav.',\n '  Kon sas katse?',\n ' 1, 2, 3, 4, 5, 6, 7, 8, 9, 10, 11, 12, 13, 14, 15, 16, 17, 18, 19, 20, 21, 22, 23, 24, 25, 26, 27, 28, 29, 30, 31, 32, 33, 34',\n ' 1 Le ketani le bareske andine les ando bar, ai chidinisaile le ketanen pasha leste.',\n ' 1 Te si vari kon kai solaxal po altari, nai kanchi. Numa te solaxal po altariske, si phanglo katar so solaxadia.',\n ' 1 Ando kodo foro arakhlem le disipluria, ai beshliam desh dies. Le disipluria katar O Swunto Duxo phende le Pavloske te na zhal ande Jerusalem',\n ' 3.6. O Del phenel ke chi zhan ando than kai si lesko.',\n ' 1. Me sim dar',\n ' 3. O Ježiš sas phandado, bo delas duma pal le Ježišoskero dživipen.',\n ' 1 Te sas čhavo, šunelas, sar o Mojžiš anďa le Izraelca avri andro Egypt a sar o Raj amare moroske rozphandelas.',\n ' 3. Te kamel avrenca sar tiro jekh, av avrenca avka sar tiro jekh.',\n ' 23 Sa kodo dies le Saduseanuria avile ka Jesus, won mothon ke nas zhuvindimos ando aver traio. Ai won phushle lestar,',\n ' Ținând la skola sîkaimos džanas te davas duma.',\n ' 1 Soske peske nane ada kňižka pre Biblija?',\n ' 1 Iek manush del les e goji te del duma pa goji, ai aver del les e zhanglimos te del duma pa zhanglimos.',\n ' 1) Kai zhanes kadia, so phenes?',\n '  Ai O Jesus phushlia le Petres, \"Ai tume kon mothon ke si?\" O Petri phendia, \"O Kristo le Devlesko.\"',\n ' 1 Iek andal phure kai poronchinas phendia mange, \"Kadala kai si andine le parne tsalia, kon si won? Ai katar avile?\"',\n ' 8 O Jesus phendia leske, \"Cho phral si te zhuvindil.\"',\n ' 1 Nai chi iek vitsa Zhidovo ai chi iek vitsa Grekovo, ke savorhe si le iek Devles, kai si lasho anda sa kodola kai akharen les.',\n ' 1 O Josef pachaiape ando Del ai pachalaspe ando Del kana sas les e vriama te merel.',\n ' 2. Te na mai kerdiol kadia, avava palpale, ai kerava marimos lenge sabiensa.',\n ' 6 Ramos ka o angelo (pasturi) la khangeriako ando foro kai bushol Philadelfia: \"Kodo kai si chacho ai o chacho, kai lel e chi la Davidoski, kai phutrel ai khonik nashti phutrel, kai phandavel ai khonik nashti phutrel, phenel kadala vorbi:',\n ' 1 Te si tume phral, te avel tume le Devlesa sar sas akharde.',\n ' 3 O Jesus gelo ande pesko foro, ai sicharelas ande synagogue, ai sa le manush chudisaile, ai phende, \"Katar si les kadia goji ai mirakluria?',\n ' 6 Le disipluria chi haliarde kadala dieli de anda gor, numa kana O Jesus sas luvudime, won dinepe goji ke kadala dieli sas ramome pa leste, ai ke won kerde le pala leste.',\n ' 1. Angerdia les pe ek tiari, ai dia les la zhuvli, ai e zhuvli dia les la dadeski.',\n ' 1 Te si vari so kai anel zor ando Kristo, ai vari so kai del e zor la dragostiaski, ai vari so kai del e zor le Devleski, ai vari so kai del e zor la mila,',\n '  O čhave mušinen te sikhľon e buchi, kaj te el lačho dživipen.',\n ' 1 O baro bariarho sas phanglo zurales, ai le manush kai garavenas o baro bariarho beshenas angla o wudar. Numa kana phuterdile o wudar, chi arakhliam khonik andre.',\n ' 1 O Epaphro, murho vortako andai temnitsa kai zhanas le Jesus Kristosa, tradel tuke but bax,',\n '  Anda kodia shuden sa le bi vuzhe dieli ai sa le nasulimata, ai primin E Vorba le Devleski kai si ande tumende, ai kai sai skepil tumare duxuria.',\n ' 1) So pes ačhiľa, sar o Adam a e Eva dživenas?\\n(1) So pes ačhiľa, sar o Adam a e Eva dživenas?',\n ' 3. So šaj keras, kaj te avas the amen sar e Rebekka?',\n ' 1 Numa uni anda lende pachaiepe, numa uni chi pachaiepe. Iek anda lende busholas Demas, ai vi iek zhuvli kai busholas Damaris, ai aver zhene sas lesa.',\n ' 3 Numa zhan angle ai sichon so si, \"Mila mangav, ai na sakrifis.\" Chi avilem te akharav kodolen kai si vorta angla Del, numa kodolen kai si bezexale.',\n ' 2 Dui angeluria beshenas pe iek than, iek po shero ai iek pe le punrhe, ai won beshenas pe kodo than kai sas thodino o stato le Jesusosko.',\n ' 3 Te si vari so kai si mai baro sar o zakono, avena andek than te den duma pa kodo zakono.',\n ' 3. So phenes, te sprindžarel o čačipen?',\n ' 3. Kana sas ando Rome, rodelas mange te arakhav ma, ai arakhlias ma.',\n ' 1 Gathodia le manushen kai kerenas buchi amare, ai phendia lenge, \"Tume zhanen ke amaro barvalimos avel katar amaro buchi.',\n ' 1. E sumuntsa pele mashkar le kanrhe, le kanrhe barile ai tasade la, ai chi mai dia fruta.',\n ' 3. Phiren pala Del sar leske shav.',\n ' 1 Numa le shukar keren kadia, ke chi trobul te kerdiol le shukar. O Del kerdia ame kadia, saxke te avel amenge mai but respektimos katar le kotor kai nai respektome.',\n ' 3 Sar kerdian anda mande ek apostle ando lumia, kerdem sakadia anda lende.',\n ' 6 Ai vi sicharen sar te phiren bi te keren buchi ando kher, ai na ferdi ke kovle, numa vi ke nasul lelpe ai keren xoxaimata, ai den duma so nai vorta.',\n ' 1 Kana avesa, an ma o gono kai garadem ande Troas, ai le lila kai si ramome pe lila.',\n ' 2 Wo alosardia desh u dui manushen te aven leske, ai te tradel le te mothon e lashi viasta.',\n ' 3) So pes avela o nekbareder časos?',\n ' 16 Šaj avas varekane goďi.',\n ' 1. Traden tumenge duma zor kana tumen dikhen iek kavreske.',\n ' 23 De katar kodia vriama o Pilate manglia te mekel les, numa le Zhiduvuria tsipinas, \"Te mekela kado manush, tu nai vortako le Caesarosko. Ke kon godi mangel te avela amperato, wo si le Caesaroske duzhmano.\"',\n ' 18 O Jehovas amenge phenel, hoj but furt imar nane čačipen.',\n ' 2 Porme o Pavlo gelo ande Dercives ai ande Lystra. Ai kotse arakhlia ieke disiplo kai busholas Timote, wo sas o shav ek zhuvlia kai pachalaspe ando Del, ai kodo kai sas Greko sas leski daki.',\n ' Țipis?',\n ' 1. Preačhav tumen pal o Del',\n ' 11 Dikhena lesko mui ai lesko anav pe lenge chikhat.',\n ' 16 Le Farizeanuria avile strazo ai xalavenaspe ando Jesus, ai mangenas lestar ek semno katar o rhaio.',\n ' 8 Swako dies ai swako riat beshelas ande greposhevo, ai beshelas po plai, ai tsipilas ai shinelas baxensa.',\n ' 2 Le apostluria ai le phral kai sas ande Judea ashunde ke le Nai Zhiduvuria premisarde e vorba le Devleski.',\n ' 1 O mishtimos ai e pacha te aven baro ando tumaro traio kana zhanen le Devles ai amaro Del O Jesus Kristo.',\n ' 8 Sa le khangeria ande Judea, Galilee, ai Samaria raduisaile ando pacha, ai barile ando pachamos ando Del, ai O Swunto Duxo le Devlesko sas lensa.',\n '  Mangav te mothav, ke kadia diela garadi sas katar le manush kai si avrial, ai katar sa data, numa akana sikadi sas kodolenge kai si le Devleske.',\n '  Antunchi phenenas le plaiake, \"Peren pe amende!\" ai le bari plaiake, \"Peren amenge!\"',\n ' 11 O Armagedon (kaj peske le Zhidovon keren o znameňi Armagedon) hino o than, kaj le beng ande lende ačhena.',\n ' 2 Antunchi line dui manushen angla leste, o Josef kai akharenas les Barsabas, ai vi wo zhanelas o Justus, ai o Matias.',\n ' 1 Swako stato si sar ek stato, numa o stato le manushesko si iek fialo, o stato le zhigenesko si iek fialo, o stato le chiriklorhesko si iek fialo, ai vi le mashego ai le masheha.',\n ' 3. O Del, so hino igen svato,',\n ' 1) So peske mušinel te kerel o boľipen?',\n ' 1 Kana o chaso areslo, O Jesus beshlo tele ka e skafidi le desh u dui disiplonsa.',\n ' 2 Le disipluria phende leske, \"Dikh, but narodo avilo te dikhel tu, ai mothonas, kon azbadias anda mande?\"',\n '  Uni phenenas, \"O Elijah avilo palpale.\" Ai aver phenenas, \"Iek profeto zhuvindisailo.\"',\n ' 1 O Del sikadia amenge ke o Abraham sas o dat le Kristosko, ai katar le Abrahamoske avilo O Kristo kai si mai opral sar swako fialo, ai O Del swuntsome ai bershona.',\n ' 3 Na lenpe pala le paramicha le Zhidovonge, ai na pala zakonuria kai le manush thon, ai kai si phende katar le manush kai chi zhanen le Devles.',\n ' 1 Kana astarde les, angerde les ande temnitsa, ai thode le ketani te len sama lestar, te zhan angle O Dies O Baro le Zhidovongo te mosen les anglal narodo.',\n ' 3. Ov kerel nalačhe veci a ačhel les andro nekazo.',\n ' 7 000 biblicka verši hine le Devleskero menos.',\n ' 3 Mangav le barvale manush kai si ande kadia lumia te na aven barimatange, ai te na thonpe ande penge barvalimos, numa te aven le Devleske, ke O Del del ame swako fielo so trobul ame, ai te raduisavas anda so si ame.',\n ' 3. Šaj pomožinen avrenge, so pes starinel.',\n ' 2 O Del dela o nekazo ai o xoli kodolenge kai chi mangen te zhanen o chachimos, ai kai lenpe pala o nasulimos.',\n '  Numa raduime te aven che iakha, ai che khan!',\n ' 3 Kodo manush gelo ka Pilato, ai manglia te del lesko stato le Jesusosko.',\n ' ʒaʒaʒaʒaʒaʒaʒaʒaʒaʒaʒaʒaʒaʒaʒaʒaʒaʒaʒaʒaʒaʒaʒaʒaʒaʒaʒaʒaʒaʒaʒaʒaʒa�',\n ' 8 Porme dikhlem o cheri phuterdo, ai ek parno gras avilo. Kodo kai beshlo po gras, akhardo \"O Del kai si chacho ai O Del kai si chacho\" ai wo kerel e kris ai maril pala chachimos.',\n ' 3 Chi zhanenas so te gindinpe, antunchi avile sas dui manush, vuriarde andel shukar tsalia pe lende.',\n '  Ke O Shav le Manushesko chi avilo te podain les, numa wo te podail ai te del pesko traio te pochinel anda but.',\n ' 2 O Judas rodelas te del les ando vas, ai rodelas te kerel kodia ando than kai sas pasha narodo, bi te zhanel kodola manush.',\n ' ʒi šukar!',\n ' 1 O David akharel les \"Gazda,\" sar wo si lesko shav?',\n ' 16 O Jesus avilo pasha lende, ai dia duma lensa, ai phendia lenge, \"Swako fielo sas dino ando rhaio ai pe phuv.',\n ' 8 Ai kana azbadi le vastesa azbadi le zharasa, woi vazdiape, ai liape pala leste te kerel buchi.',\n ' 9 Te vakeras pal o Del,',\n ' 1 O Del manglia te sikavel amenge o garadimos kai wo manglia te kerel amenge, ai kadia kerdia kana dia ame te zhanas leski voia.',\n ' 3 Te aves čhavo, abo čhaj,',\n ' 3. Wo si o pasturi le Devlesko ai le Devlesko kheresko. Wo chi kerdia kodia le manusheske, numa O Del kerdia les.',\n ' 1 O Jesus gelo ando Jericho, ai nakhlo anda foro.',\n ' 3 O Del chudňa, hoj o naboženska učiťeľa na sikaven le manušenge o čačipen pal o Del the pal o kraľišagos.',\n ' 1 Strazo O Swunto Duxo lia le Jesusos ando pusta.',\n ' 18, 19) (a) Sar šaj nakhav avri andal o boňitostar, so hin le Satanostar the le demonendar?',\n ' 1 O Eliud sas o dat le Eleazari; O Eleazar sas o dat le Manasosko; O Manas sas o dat le Iakovosko;',\n ' Ai te sai pachav ma andel dieli la phuviake, te si vari kon kai pachalpe andel dieli la phuviake, mai but me.',\n ' 1 O zhukel kai buntol, èi mušinel',\n '  Ai o Abraham phendia leske, \"Te na pachaie o Moses ai le profeturia, chi pachana te zhuvindis vari kon andai mule.\"',\n '  Ke O Del manglia te beshel ando leste sa o barimos le dielako.',\n ' 8 Numa kadia si kai sas luvudime, ai nai luvudime, ke luvudimos kai si mai baro.',\n ' 12 O kham xasardo, ai e tira paraxodo ande tampla pharhadilo.',\n ' ʒuʒu',\n ' 1 Me, o Iovano, ashundem ai dikhlem kadala dieli. Kana ashundem ai dikhlem, shudem ma kal punrhe le angeloske, kai sikavelas ma so ashundem ai dikhlem.',\n '  Numa dikhav aver zakono ande murho stato, kai marelpe karing o zakono kai mangav murho goji, ai kodia zakono kai si ande murho stato, kerdia anda mande ek sluga le bezexeske.',\n ' 3. O Abraham phendia, \"Ashun! Me avav te kerav so manges, Devla.\"',\n ' 1 Tu gindis ke mai baro sar amaro dat o Abraham, kai mulo? Ai vi le profeturia kai mule? Kon san tu?\"',\n ' 1 Te thodem tumenge o mishtimos le Devlesko, antunchi te na chidav tumare phari mishtimata?',\n ' 1 Te motholas lenge, \"Sar si kai amaro zakono dosharel iek manush mai anglal te ashunel les ai te zhanen so kerel?\"',\n ' 3:12) Sar phandenas les le barensa, o Pavlo phendia ka o mai baro ketana kai sas kotse, \"Slobodo tuke te mares duma ai te mares les, numa kon si kai marelpe pe manush kai nai doshalo?\"',\n '  Traden but bax, o Priscilla ai o Aquila, murhe vortacha ando Jesus Kristo',\n ' 1 Le Zhiduvuria keren mirakluria, numa le Grekuria roden te zhanen.',\n ' 1) Pal o čhavoro, so kerel nalačho, so kerel vareso, so kerel čhavoro, so kerel nalačho, so kerel vareso,',\n '  Ai phendia lenge ek paramichi, \"Iek manush barvalo sas les but jiv.',\n ' 1 Kon godi phenel ke nai O Shav le Devlesko nai kodo kai si les O Dat.',\n ' 1 Numa so mothol E Vorba le Devleski? \"Mek te zhal o bari shei ai lako shav, ke o shav la bareski chi zhala ando Del sar o shav la zhuvliaki.\"',\n ' 1 O manuša nane ada.',\n ' 1 E Swunto Duxo le profetongo si tela le profetongo.',\n ' 3 Sar phirelas andel foruria sicharelas le phralen te lenpe pala zakonuria kai phendia le apostluria ai le mai phure kai sas ande Jerusalem.',\n ' 1 Iek anda leske disiplonge, kai sas leske drago O Jesus, beshelas tele pasha leste pe leste.',\n ' 1 O Del amaro Dat ai O Jesus Kristo traden tumenge o mishtimos ai e pacha.',\n ' 3. Sar kerdiolpe so mothol E Vorba le Devleski?',\n ' 3. Tu ašaraha avri andal le čorhe, bo ňisavo manuš na avela nasvalo, bo ňisavo manuš na avela chuviro.',\n '  Numa tume kai chi mangen te parhuven tume ai chi mangen te kein tume, chiden ande tumaro baro kher le xoliaki kai si garade te avel o dies la xoliako ai o chachimos le Devlesko sikadiol.',\n ' 3. Katar avľa o Ježiš a so sas les?',\n ' 6 Anda kodia, aven tume ka kado dies O Baro, me chi avava, ke chi avilemas inker.\"',\n ' 2 E Biblija hin le Devleskro darčekos.',\n ' 8 Ai phendia leske, \"Zha te xal ando xar la Siloamosko.\" (Kai Siloam znachil \"Trade.\") Wo gelo, xal, ai avilo palpale, ai dikhlia mishto.',\n ' 9 Ma nane čačipen, hoj o Del kerel',\n ' 3. Wo sas bokh ai manglia te xal.',\n ' 3. O Jesus kerdia te avel vorta le zakonuria kai sas ramome, ai kai sas dosh pe amende.',\n ' 3. (a) So kerel o Del, kaj te na pačhas amenge, hoj o meriben hin?',\n ' 7–10) O Satan verno sas.',\n ' 1, Numa, murhe phral, mangen te aven profeturia, ai te na aterdion te den duma pel shiba.',\n ' 8 Ai e sumuntsa kai sas shudini ando phuv lashi, si kodo kai ashunel e vorba ai haliarel la; wo anel fruta, iek sumuntsa dui shela, vai trenda.\"',\n ' 3. Line le tsirhas ando lengo shero, ai tsipinas pe leste, ai thodepe ande changende angla leste, ai rhuginaspe leste.',\n ' 1 Chachimasa, lenge kris sas shinde ke chi pachanaspe ando Del, numa tu beshes ande punrhende pala pachamos, ai na aterdios, numa daras.',\n ' Șat sî tu?',\n ' 8 Le disipluria chudisaile kana dikhle so kerdilia, ai phende, \"So znachil kai si shudini?\"',\n ' 3. (a) Sar o Elijezer sprindžardia, hoj e Rebekka hino romňi, kaj pes te el la romňaha?',\n ' Ke so si tu kai si pe krenzha le krenzhi tu zhana. Chi chiden figi katar le krenzhi, ai chi chiden struguro katar le krenzhi.',\n ' 9.',\n ' 3. So mušinas te kerel, te kames o Jehovas te šunel amare modlitbi?',\n ' 3. Anda kodia na mai busteri sar le kolaver, numa mai busteri ai arakh tu.',\n '  Ai aver si kodola kai si shude mashkar le kanrhe, kodola kai ashunen E Vorba le Devleski.',\n ' 6. So si te bashon ande kaver dieli, sar o rhonjito, o tsipimos, vai o dzilimos?',\n '  Ai o beng phendia leske, \"Te san O Shav le Devlesko, phen ka bax, te kerdiol manrho.\"',\n ' 1. So pes dodžanľal?',\n ' 3. O romňi the romňi, so keren avri andal o rom, na keren vareso.',\n ' 9 O Del džanel, hoj amenge te el rado a te avas verno',\n '  Kodo kai xal murho stato ai pel murho rat, traiil ande mande, ai me traiiv ande leste.',\n ' 3) Kai bariolas o Timotej?',\n ' 3 dies pala kodia e bari shei le Jesusoski kerdilia ando Cana ande Galilee, leski dei kotse sas.',\n '  Traden but bax, zor ai sastimos ka sa le shave le Devleske kai si ando Jesus Kristo. Murhe phral kai si mansa traden but bax, zor ai sastimos.',\n '  Ai le Farizeanuria ai le Gramnoturia dine duma ai phenenas, \"Kado manush primil le bezexale, ai xal pesa.\"',\n ' 3 Te si cho vas vai che punrhe kai keren tu te peres ando bezex, shinen le ai shude le tutar. Ke mai bini te zhas ando chacho traio vai te avena korho, de sar te avena tume dui vas vai dui punrhe ai te aven shudine ande iag le iadoski.',\n ' 1 Numa le manush kai si le slugi trobul te na xoliavon pe lende ke won mothon won ke si phral, numa te aven lenge mai lashe slugi ke won si le phral kai si le slugi, ai kai si le slugi si lenge drago. Sikaven lenge so trobul te keren, ai phen lenge mai mishto.',\n ' Țe na xasă khå bal pa cho capo.',\n ' 4 km.',\n ' 1 Iek dies Savatone O Jesus nakhelas pasha niva le jiveske, ai leske disipluria sar zhanas, line xantsi jivesa.',\n '  Le bare rasha ai le Gramnoturia kai sas ande tamplo, kana ashunde so phendia, rodenas te mudaren les, ke daranas lestar, ke sa o narodo chudisailo anda lesko sicharimos.',\n ' 1. Premin iek kavreske sar O Kristo premisardia tumen te avel tumaro barimos le Devlesko.',\n ' 1. O Pavlo gelotar andai maria ando Caesarea, ai gelo ando Jerusalem, ai kana kerdia kodia, gelo palpale ando Antioch,',\n ' 4 pala kodia vriama, ande murho kher, karing leste rhugivas, ai strazo kodo manush avilo angla mande, ai sas les iek rash tivala.',\n ' 1 O Kristo si amaro Baro Rasha, wo nakhlo ando rhaio ai si O Shav le Devlesko.',\n ' 3. Ame azhukeras o dies kai avela amaro raduimos, ai kana sikadiola o barimos le Devlesko ai skepitoresko O Jesus Kristo.',\n ' 1 O Del si o mai baro kai das naisimos, kai ankerel ame sagda ando pesko chuno ai anel ame e putiera te niris ame ando Kristo.',\n ' 1. Antunchi thode le lantsuria te astaren leske vorbi, ai te sai astaren les te mothol vari so kai dosharen les.',\n ' 1 Te tumaro phral kerel bezex anda tute, sichar les.',\n ' 10 Kana O Jesus avilo palpale, le manush raduimesas les, ke savorhe azhukerenas les.',\n ' 3. Zhan karing le thana kai le manush chidenpe ando kher, ai akharen sa kodolen kai arakhena.',\n '  Ko hineha andre e škola, so sikavel pal o Evangelišagos le kraľišagoske?',\n ' 1 Wushten, aven, Dikh! O manush kai purhisardia les avel!\"',\n ' 3. Numa O Jesus phendia lenge te na mothon kanikaske.',\n ' 3 Te na avel tuke drago so sas tu dino katar O Del katar o profeto, kana le phure kai poronchinas thode le vas pe tute.',\n ' 3. O Del kamel, hoj te el feder.',\n ' 3. O Kristo amperato le Zhidovongo trobul te zhal po trushul akana, te das duma ai te pachas ame. Le manush kai sas karfome lesa vi won marenas mui lestar.',\n ' 3. O Jesus phendia lenge, \"Kodo kai thol o lasho sumuntsa si O Shav le Manushesko.',\n ' 1 Po dies O Savatone gelo ande synagogue te sicharel le narodos, ai but manush chudisaile, ai phende, \"Katar si les kado zhanglimos? Sar si les kacha goji? Sar kerel kadia buchi le vastensa?\"',\n ' ʒan o sastri?',\n ' 9 O amperato ai sa kodola kai si barvale ande pengo them, trobul te aven drago le Devleske, saxke te dashtin te traiisaras ande pacha ai ande pachivalimos, ai te avel tume sa o respektimos ai sa o luvudimos.',\n ' 3) Soske o Elijaš peske na džalas ando pusta a garadľas pes andro bari bari jekh?',\n ' 1 Ai strazo izdraia e phuv zurales, ke iek angelo le Devlesko avilo anda rhaio, ai avilo te shinel o bax kai sas opral pa o gropo, ai beshlo tele pe bax.',\n ' 11 O Del sikavel, hoj tu pomožines le manušen, so hine čore.',\n '  O Jesus terdilo ai phendia, \"Akhar le manushes.\" Won akharde le korhes, ai phende leske, \"Raduisavo, wushti opre, ke akhar les tu.\"',\n ' 1 Numa chi trobul te avel kadia mashkar tumende. Kon godi mangel te avel baro mashkar tumende, avela tumari sluga.',\n ' 1 O Del kerdia so amenge vorta, ke trobulas iek kai kerdino sar O Kristo.',\n ' 16 O Jesus phendia leske, \"Simon, phenav tuke vari so.\" O Simon phendia, \"Phen mange, Gazda.\"',\n ' 16 Sa o narodo ashundia le Barnabas ai o Pavlo, ai ashunenas so kerde O Del lenge mashkar le manush kai chi pachanpe ando Del.',\n ' 3. E, e, e',\n ' 9 O Del amen hin oda, so amen hin.',\n ' 3. So phenes, kana tuke avľa oda, so pes kerďa? — Varesave manuša pes phenen: „Oda, so kerďa, na mišľinav.“',\n ' 1 O angelo avilo ka late ai phendia, \"Raduime te avel tuke o lashimos le Devlesko! O Del si tusa, tu san raduime mashkar le zhuvlia!\"',\n ' 1. So pes modľinas prekal o dživipen?',\n ' 1 O Jesus sicharelas ande synagogue ando Capernaum.',\n ' 2 O gazda la lumiako si te avel kritsinisardia.',\n ' 1 Swako dies kai simas tumensa ande tamplo, chi thodian murho vas pe mande, numa kodo chaso si tumaro, ai e putiera le tuniarikoski.\"',\n ' 3) Sar šaj aves korheha?',\n ' 8 Kana le manush ashunde kodia, naisinas le Devles, ai phende leske, \"Dikh, phral, but manush anda le Zhiduvuria pachanpe, ai sa mangen te len pala zakono.',\n ' 1 Petri phendia leske, \"Vi te si sa le manush pe kadia, me chi dava ma.\"',\n ' 11 O Ježiš sikavelas peskere učeňiken, kaj pes te modľinen, kaj oda, so kamel o Del andro ňebos.',\n ' 1 O Jesus phendia lenge, \"Ke tumaro ilo zurailo, o Moses rhandel o zakono kadala vorbensa.',\n ' 1 Te si vuzho o pervo fruti, ai o manrho kai anel o pervo fruti vuzho; ai te si vuzho o kotor kai bariol o khash, ai le krenzhi kai bariol katar kodo kotor vuzhe.',\n ' 1 Uni andal Saduseanonge kai phenenas ke nas te zhuvindin, avile ka Jesus ai phushle les,',\n ' 2 \"Iek tsinorho manush si katse, si les panzh manrhe ai dui mashe, so si kadala but?\"',\n ' 6\"Phen amenge kana kerdiol kodia, ai so znachil kana kerdiol?\"',\n '  So gindis? Iek manush sas les dui shave; gelo ka o pervo, ai phendia leske, \"Murho shav, zha adies ai ker buchi anda murho buzo.\"',\n ' Ai chi phendia khanchi. Leske disipluria avile leste, ai phende leske, \"Mek les, ke rhugilpe amendar.\"',\n ' 3 O Ježiš phenďa, hoj vajkeri olestar vzkrjesimen andro ňebos.',\n ' 3 O rat le zhigenange, kai o baro rasha thol ando Swunto than te pochinel o bezex, avena shudine avri anda o foro le Devlesko.',\n '  Ko pomožinel le čhavenge te kerel peskere skaminca?',\n '  Me sim o wudar. Te si vari kon kai zhal katar mande, avela skepime; zhal ai anklena avri, ai arakhela but fruti.',\n ' 2 Sar Osea mothol pa Del: \"Numava murho narodo kodolen kai nas murho narodo, ai drago mange kodolen kai nas mange drago.',\n ' 3 Te si o shuri kai miazol o baro bashimos, kon si kai si gata te marel?',\n '  Ai wo tradia te phushen leske disiplon, \"Tu san kodo kai trobul te avel, vai trobul te azhukeras avres?\"',\n ' 1 O Del del ame goji kai avel katar O Del, kai si vorta, kai si lasho, kai si mila, kai si lasho, ai kai si lashe, ai kai chi haliarel, ai kai chi mangel so godi te kerel.',\n ' Ai le manush la lumiake raduinape ai veselinape kana dikhena le, ai dena le podarki iek kavreske, ke le dui profeturia chinuisarde le manushen la lumiake.',\n ' 1) Oda, so len le loveha, hino služobňikos le manušen, so džan le loveha.',\n ' 3. Šaj avka phenes peskere goďi the jileske, na ča den le goďaha abo phenen le jileskere.',\n ' ʒana kajèi!',\n ' ʒanen akana the terhara koèa?',\n ' 3 O Jesus gelo po plai ai beshlo tele peske disiplonsa.',\n ' 1 O Jesus avilo ande tampla, pherdo sas katar O Swunto Duxo. 2 Antunchi le manush kai sas lesko dat ai leski dei andine les ande tampla, ke trobulas te keren so mothol o zakono.',\n '  Ale te phirela tuke te merela vari kon kaj tuke drago?',\n ' 8 O angelo phendia lake, \"Na dara, Maria; ke O Del si leske mila anda tute.',\n ' 3 Ai kotse kai won ashunena ke chi san murho narodo, won avena akharde le shave le Devleske kodoleske kai zhuvindin.',\n ' 6 Le disipluria phende leske, \"Te si kadia sar mashkar o rhom ai leski rhomni, nai vorta te ansurilpe.\"',\n ' 3. Na mai pes te pel ferdi pai, numa le lazhavosa kai si tu, ai le naswalimata kai si tu trobul te len tume xaiin.',\n '  Sode èiro avena?',\n ' 1 Le disipluria gele ando foro te chinen le manrhes.',\n ' 1 Le manush andai Ninevah si te wushten ka kris kana avela e vriama, sar kodola manush kai traiin akana, ai won hulaven pe lende, ke kana o Jonah dias duma pa Del lenge, won keisaile, ai akana iek mai baro katar o Jonah si katse.',\n ' 3) So phenďa o Satan, hoj o Del hino nalačho vladcas?',\n ' 3 O Jesus kerdia kadia te skepil le manushen pesko rat.',\n '  Ai O Swunto Duxo ai e Baro Neski phenen, \"Aidi!\" Kodo kai ashunel, phenel, \"Aidi!\" ai kodola kai si penge trushali aven; ai kodo kai mangel, te lel o pai le traiosko bi te pochinel.',\n '  Uni rhuginaspe te zumaven les, ai mangenas leske te del len ek semno katar o cheri.',\n ' 3 O Del dia le o šukar kher, kaj te beshen andro rajos Eden.',\n ' 1. Sas les ferdi iek shav kai sas leske drago; ai kana areslo sas, tradia les lensa.',\n ' 6 Na thon tumen le molensa, ke kodia si te xalaven.',\n ' 1 Iek dies O Jesus anklisto andek chuno peske disiplonsa, ai phendia lenge, \"Aven inchal o pai.\"',\n ' 8 O Jesus phendia lenge, \"Sostar tume keren so mothol o zakono le Devlesko ande tumaro mishtimos?',\n ' 3. O Baro Rasha chi dela duma nasul la kolavren, ai chi tsipila. Ai khonik chi ashunela lesko glaso po drom.',\n ' 3. O Del kamel, kaj pes te šunel les a te el leskero kamaratos.',\n ' 1 O Pavlo ai o Barnabas boldine savorhensa ando pai, ai O Jesus boldilo ando pai, ai rhugilaspe o cheri phuterdilo ai o cheri phuterdilo.',\n ' 1 Zhanas ke O Shav le Devlesko avilo, ai dia ame te zhanas kodoles kai si chacho. Ai ame sam ando kodo kai si chacho, kodo si O Jesus Kristo, O Shav le Devlesko. Wo si O Del o chacho ai o traio kai chi mai getolpe.',\n ' 3 Antunchi le disipluria geletar khere.',\n '  Sikaven tume le manush, te zhanen pai paramichi le figenge. Kana e patri le figengi shuchol ai kerdia patri, tume zhanen ke o mishtimos pashol.',\n ' ʒanes te džal o radiol?',\n ' 3 Kon si mashkar tumende kai del leske manushes ek manrho te mangel leske shav ek bax te del leske?',\n ' 1. O Del sikadia amenge ke wo si o baro kai poronchil po phuv ai vi po cheri.',\n ' 8 O manush trobul te pochinel le sluga kai kerelas so manglia leske.',\n ' 1. Nai vorta, nai chachimos.',\n ' 8 Anda kodia, gindiv ke chi trobul te avel le manush kai chi zhanen le Devles te aven vorta angla leste, ai te aven leske vortacha.',\n ' 5 Sar sai pachan tume, tume kai roden te beshen barvale, numa tume chi roden e barvalimos kai del O Del ferdi iek data?',\n ' 1 Te sam ame bi pachamos, O Kristo si les pachamos, ke wo nashti aterdiarel pesko pachamos.',\n ' 3. 3. O vriana šaj phutren avri sako ďives.',\n ' 13 So phenel e Biblija pal o buťi?',\n ' 5 O Del alosardia les mai anglal te avel o lasho sakrifis, o rat le Kristosko, te sikavel pesko chachimos, ai te iertin le bezexa le manushenge. O Del zhanglia savorhe mai anglal sar te kerel kodia.',\n ' 3. Te na aves phanglo,',\n ' 8 Numa won nashti denas pe kanchi kai wo phenelas, ke wo sas phendo katar O Swunto Duxo.',\n ' 3 Porme dikhlem, ai dikhlem O Bakriorho po Plai Zion, ai lesa shtarvardesh ai shtarvardesh tai shtar zhene, kai ramosarde peske anav po lengo chik.',\n ' 1 Petri rhugisailo, wushtilo opre, ai gelo ka leske disipluria, ai arakhlias le sovenas ke nekezhime sas.',\n '  Akana raduime sim ande murhe chino ke sanas chinuime; ai ande murho stato kerav so godi trobul O Del te kerel ando stato le Devlesko, kai si e khangeri.',\n ' 1 Swako manush trobul te avel leski rhomni, swako manush te avel les leski rhomni, ai swako rhomni te avel les lesko rhom.',\n ' 9. O Jehovas ela anglo kraľišagi, aňi na anglal o manuša.',\n ' 3 Te na haliaren mishto, trobul te zhanen so mangel O Del tumendar.',\n ' 1. Eta, so kerdia le disipluria kana ashunde so phendia O Jesus.',\n ' 16 O Del si kai kerel so godi kerela, sar O Jesus Kristo amaro Del phendia mai anglal.',\n ' 1 O naswalo phendia leske, \"Gazda, nai ma khonik te xalav murho stato kana o pai xulavel, ai zhi kai me zhav avri, aver avel angla mande.',\n ' 2 O Jehovas diňa amenge e Biblija, kaj te džanas, sar te modľinel pre le Devles.',\n ' 1 O Jesus phendia pa Judas, o shav le Simonosko Iscariotiano, ke wo trobulas te purhil les.',\n ' 1 O pervo dies le kurkosko, e Maria Magdalena gelo diminiatsi ka greposhevo, ke inker sas tuniariko, ai dikhlia ke o shoro kai phandavelas o mulo sas lino.',\n ' 3. Ai sar ame liam amaro stato sar ek stato kai si la lumiake, sakadia ame liam amaro stato sar ek stato kai si O Kristo.',\n ' 1 Bichin so si tume ai den ka chiden, ai keren tumenge iek than te garaven love.',\n ' 6 Porme kana gelem palpale ando Jerusalem, ande tampla rhugivas, ai ande murho ilo avelas ma ek bari nekezhimos.',\n ' 1 Na, e mušika anel o kuchi.',\n '  Murhe vortacha, trobul te avas drazhi iek kavreske; ke e dragostia avel katar O Del. Ai kon godi si les dragostia, kodo si kai si phendo O Shav le Devlesko, ai zhanel le Devles.',\n ' 16 Le vorbi kai phende sas le apostluria le manushenge kai ashunde le, ai won chi pachanaspe ando lende.',\n ' 1 O anav le Devlesko si O Del le Devlesko.',\n ' 3 So kerdian kana O Del mulo? Tume chi mangel akana kadia buchi, ke kodia buchi ingerel ka martia.',\n ' 3. Dikh o čhavoro andro obrazkos',\n ' 3. Numa akana chi mai premil o mai baro pochin ande kado traio, nai ferdi iek shel, chi iek shel mai but, nai ferdi iek kher, chi iek phral, chi iek phei, chi iek dei, ai chi iek glata, chi iek khera, ai chi iek mai but, numa vi iek mai but mai but, o traio kai chi',\n '  Antunchi le disipluria avile ka Jesus ai phende leske andel bange, \"Ame sostar nashtisardiam te gonisaras les?\"',\n '  Ai phendia lenge, \"Ramome, \\'Kadia si murhi vorta, kai kerdiol e khangeri, numa tume kerdian anda late o gropo le chorrenge.\\'\"',\n ' 9 Kadia divano kerdia le Zhiduvuria te hulavenpe.',\n ' 1 Tume kai san le shave le Devleske, tume zhanen ai pachan tume ke O Del si, ai ke chi dikhlian les, tume raduin tume ande tumaro pachamos, ai tume raduin zurales ke O Del si.',\n ' 8 O Swunto Duxo phendia le Filiposke, \"Zha ai aidi kodo khash!\"',\n ' 3. So phenes, te mothos ke O Del kerela sar te avilino?',\n ' 18 Ai thodia les ando nevo greposhevo kai sas ande bax. Wo sas o pervo manush kai sas ando greposhevo. Wo thodia ek baro bax po wudar la greposhevostar, ai gelotar.',\n ' 3 Akana, O Del sikavel ke vorta lo, ai te avel vorta angla leste, ai te jinel vorta pe kodo kai pachalpe ando Jesus.',\n ' 1 Zhanav les, ke avilem katar leste, ai wo tradia ma.\"',\n ' ʒaʒa o drom, me mangav tutar.',\n ' 1 O Del phandadias sa le manushen te keren so mangel O Del, saxke te avel leske drago sa le manush.',\n '  Ke le Saduseanuria phenen ke nai zhuvindimos vai angeluria vai duxuria. Numa le Farizeanuria mothon lenge ke si.',\n ' 9. So šaj arakhen? Pre amare webova stranki hin pal ada, so nekfeder te džanel, sar amari buči sikaven pal o svetos, pal o kataklamas, so pes ačhile le Jehovaskere svedki the pal oda, so amen hin lačho dživipen.',\n ' 10 Kana aresle ando Mysia, ai kai sas ando Bithynia, chi mekle le te zhan ando Bithynia, ke O Swunto Duxo le Jesusosko chi mekel le.',\n ' 3. O Ježiš phenďa, hoj e laska ko kraľišagos ela pro caľi phuv.',\n ' 8 So te mothas? Le thema kai chi zhanenas o chachimos, ai kai chi kerde o chachimos, won sas dine ando chachimos katar o pachamos.',\n ' 1 Numa phenav tumenge, ke o Elias avilo, ai won chi zhanenas les, numa kerde lesa so mangle. Kadia avela te avel le Shaves le Manusheske.',\n '  Ai tume sanas zumade te ashunen E Vorba le Devleski but baripe vutuimasa kai avel katar O Swunto Duxo.',\n ' 1 O Iovano si te avel tuke iek raduimos, ai vi le kolaver manush raduinpe kana avela o Iovano.',\n ' 3. O trito angelo phurdia leski tuturaza. Ai iek bari cheri perli pele anda cheri, kai strefialas sar iek lampo. Kodo cheri perli pele pe trito partia pai phirias ai paie sastria.',\n '  Mai si tume e bileta ka o romano kham?',\n ' 3. Prekal amende pes zdžas o prjanzar andro kher, koa kaj pes zdžan amare phrala kai pachan o Del, bo ada kerel, kaj amaro zhromažďeňe te el mište.',\n ' 1 Sa le manush chudisaile, ai denas pe duma won de won, \"So si kado? Nai kodia nevo zakono? Wo poronchil pe sa le duxuria bi vuzhe, ai won ashunen les.\"',\n ' 3) O Del amen diňa peskero čhavo',\n ' 16 Ai won xan le khera le phivlianenge, ai rhugin penge iakha te den armaia le manushenge kai si ande lumia.',\n ' 1 Ke sar bakriorhe zhandelas, numa akana pale gele palpale ka cho pastuxo ai ka cho manush kai lel sama tumare duxoske.',\n ' 11 Won phende, \"Tu san o Baro Rasha, tu san o Baro Rasha, tu san o Baro Rasha, tu san o Baro Rasha, tu san o Baro Rasha, tu san o Baro Rasha, tu san o Baro Rasha, tu san o Baro Rasha, tu san o Baro Rasha, tu san o Baro Rasha, tu san o Baro Rasha, tu san o Baro R',\n ' 14 O chachimos le Devlesko sikavel, ai leski putiera kerel buchi te ankalavel ame, ai te arakhen ame katar o nasulimos.',\n ' 3. So phenes pal oda, so pes avela?',\n ' 1 Ke mai anglal sar sa, trobul te zhanen ke swako profesi kai sas ande Vorba le Devleski chi haliarel korkorho.',\n ' 3. Kames te džanel buter pal ada kraľišagos? —',\n ' 1 Numa ame, amare kuchi phral, trobul te das naisimos sagda ka Del tumenge, ke de anda gor O Del alosardia tume te aven skepime, ai O Swunto Duxo ai o chachimos kai pachan tume.',\n '  Ai tume ashundian e lashi viasta le skepimaski, ai pachaian les, ai O Swunto Duxo sas thodino pe tumende sar ek semno.',\n ' 3. Šaj diňa avri le Devleske a bolel?',\n ' 2 O Jesus phendia leske, \"Simon, shav le Jonasosko, san tuke drago mange?\" O Petri phendia, \"E, Devla, zhanes ke sim mange drago tuke.\" O Jesus phendia leske, \"Le sama katar murhe bakriorha.\"',\n ' 2) Sar pes ašarde le Jozijašiske vortacha?',\n ' 8 O Jesus phendia lenge, \"Na keren kris mashkar tumende.',\n ' 8 Te nekezhisavas, katar te avel ma o raduimos?',\n '  Kana si tu akhardo ka ek abiav, chi besh ka o mai baro skafidi, ke kadia si te avel aver kai si akhardo mai baro tutar.',\n ' 8 Numa won tsipinas, \"Tho les po trushul, tho les po trushul!\"',\n ' 3. O Del kerdia anda amaro pachamos o mai mishto vuzhimos.',\n ' 1) Šaj dživas sar manuša, kana peske šunes o glaso andro radišagos, phenel:',\n ' 16 Kana phendia kodia le Zhiduvuria geletar, ai denas pe duma mashkar pende.',\n ' 1 So pes ačhľam?',\n ' 1 O pervo so kerdia o dad?\" Won phende, \"O pervo.\" O Jesus phendia lenge, \"Chachimasa, phenav tumenge, le manush kai chiden e taksa ai le zhigeni zhan anglal tumende ande amperetsia le Devleski.\"',\n ' ʒ',\n ' 2) „O, šunel le Devleskere modlitbi, avka tuke avena savore manuša.“ (Žalm 65:2)',\n ' 1 Akana o obraz dikhasa sako šukar.',\n ' 9 Kodo kai si opral pe kher, chi trobul te zhal tele ai te zhal andre, ke trobul te lel vari so andai kher.',\n ' 1. (a) Sar šaj džal avri le lovenca',\n ' 1. O Abraham pachalaspe ando Del, ai chi dikhelas pe pesko stato kai sas phuro, wo sas sar iek shelo bershengo, ai chi dikhelas ke e Sarah nashti avelas le glate.',\n ' 5 Andre Židovisko kňižka Eklezijašis phenel: „Ola, so mule, na džanen ňič.“',\n ' 1 O Simon Petri, o Thomas kai busholas Gamaliel, o Nathanael andai foro kai bushol Cana andai Galilee, ai le shave le Zebedeske, ai aver disipluria le Jesusoske sas kotse.',\n ' 3. Ai te arakhav les, ai te na arakhav ke vorta sim, ke o zakono mothol ke trobul te avav vorta, numa O Del del ame kodia vorta pala pachamos kai si ame ando Kristo.',\n ' 1 Ande kodia foro arakhliam phral kai mangenas amendar te beshas le lende efta dies, ai kadia aresliam ande Rome.',\n ' 1. Vakerel pal ada, hoj tut na mušines te džal.',\n ' 1. Šaj phenen pal o problemi',\n ' 1. O Del amen diňa o baro luvudimos, kaj te avas leske služobňika.',\n ' 1 O Jesus anzardias o vas, thodia o vas pe leste, ai phendias leske, \"Mangav, av vuzho!\" Ai strazo meklia les.',\n ' 13 Opral pa lesko shero ramolas, \"O Amperato le Zhidovongo.\"',\n ' 3. O Del kamel, kaj te avas verno a te džal andro dživipen.',\n ' 1 Kodola manush kai keren kadia si le manush kai keren o bi lashimos. Won keren kadia te avel le barvalimos kai si le aver manushenge.',\n ' 5 Ke so godi si ande lumia, o manush mangen te keren kadala dieli, ke drago lenge le statoske ai le iakha, ai ke mangen te bariaren ando barimos le traiosko, kodo chi avel katar O Dat, numa avel katar e lumia.',\n ' 1 Te na lela sama katar kodola kai si le Devleske, ai mai but katar kodola kai traiin ando kher le Devlesko, won chi pachanpe, ai mai nasul le sar le manush kai chi pachanpe.',\n ' 8 Ai phendia, \"Shubisailem ke bichindem o rat le manushesko.\" Won phende leske, \"So si tu kadia? So si tu kadia?\"',\n ' 2 Pala kodia kai kerdile o baro glaso, geletar po plai le maslinenge.',\n ' 3 But narodo liape pala Jesus, ai kana gelo palpale, phendia lenge,',\n ' 1 Te dikhliam tu naswalo, vai ande temnitsa, ai aviliam te dikhas tu?',\n ' 8 O Del phendia, \"Kai si o manush kai si lasho ai gojaver, kai o gazda thol pe peske slugi te del le so trobul te avel lenge pochindo kana trobul.',\n ' ʒa',\n ' 1 Ai won traiinas, xanas, penas ai ansurisailas zhi ka dies kai o Noah anklisto ando chuno, ai e bari vutuimos avili, ai sa le manush xasaile.',\n ' 3. Uni manush chinuisarde le, ai marde le, phandade le, ai thode le ande temnitsa.',\n ...]"
          },
          "metadata": {}
        }
      ],
      "execution_count": null
    },
    {
      "cell_type": "code",
      "source": [],
      "metadata": {
        "trusted": true,
        "id": "i5yXlhMkADsd"
      },
      "outputs": [],
      "execution_count": null
    }
  ]
}